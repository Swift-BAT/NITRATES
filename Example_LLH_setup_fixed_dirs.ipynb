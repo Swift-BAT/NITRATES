{
 "cells": [
  {
   "cell_type": "code",
   "execution_count": 6,
   "metadata": {},
   "outputs": [],
   "source": [
    "import numpy as np\n",
    "from astropy.io import fits\n",
    "from astropy.table import Table, vstack\n",
    "from astropy.wcs import WCS\n",
    "import os\n",
    "from scipy import optimize, stats, interpolate\n",
    "from scipy.integrate import quad\n",
    "import argparse\n",
    "import time\n",
    "import multiprocessing as mp\n",
    "import matplotlib.pyplot as plt\n",
    "from matplotlib.colors import LogNorm\n",
    "from matplotlib import cm\n",
    "import sys\n",
    "import pandas as pd\n",
    "pd.options.display.max_columns = 250\n",
    "pd.options.display.max_rows = 250\n",
    "import healpy as hp\n",
    "from copy import copy, deepcopy\n",
    "# sys.path.append('BatML/')\n",
    "import logging, traceback\n",
    "import sys\n",
    "logging.basicConfig(stream=sys.stdout, level=logging.DEBUG)"
   ]
  },
  {
   "cell_type": "code",
   "execution_count": 7,
   "metadata": {},
   "outputs": [
    {
     "name": "stdout",
     "output_type": "stream",
     "text": [
      "/storage/work/j/jjd330/local/bat_data/BatML\n"
     ]
    }
   ],
   "source": [
    "%cd /storage/work/jjd330/local/bat_data/BatML/"
   ]
  },
  {
   "cell_type": "code",
   "execution_count": 8,
   "metadata": {},
   "outputs": [],
   "source": [
    "from config import rt_dir\n",
    "from ray_trace_funcs import RayTraces\n",
    "from event2dpi_funcs import det2dpis, mask_detxy\n",
    "# from do_InFoV_scan3 import Swift_Mask_Interactions, Source_Model_InFoV, Bkg_Model_wFlatA,\\\n",
    "#                             CompoundModel, Point_Source_Model_Binned_Rates,\\\n",
    "#                             theta_phi2imxy, bldmask2batxys, imxy2theta_phi,\\\n",
    "#                             get_fixture_struct\n",
    "from flux_models import Cutoff_Plaw_Flux, Plaw_Flux, get_eflux_from_model\n",
    "from models import Source_Model_InOutFoV, Bkg_Model_wFlatA,\\\n",
    "                CompoundModel, Point_Source_Model_Binned_Rates\n",
    "from ray_trace_funcs import RayTraces\n",
    "from sqlite_funcs import get_conn\n",
    "from dbread_funcs import get_info_tab, get_twinds_tab\n",
    "from do_manage import im_dist\n",
    "from hp_funcs import ang_sep\n",
    "from coord_conv_funcs import theta_phi2imxy, imxy2theta_phi, convert_imxy2radec,\\\n",
    "                            convert_radec2thetaphi, convert_radec2imxy\n",
    "from do_llh_inFoV4realtime import parse_bkg_csv\n",
    "from LLH import LLH_webins\n",
    "from minimizers import NLLH_ScipyMinimize_Wjacob"
   ]
  },
  {
   "cell_type": "code",
   "execution_count": 4,
   "metadata": {},
   "outputs": [],
   "source": [
    "%matplotlib inline"
   ]
  },
  {
   "cell_type": "code",
   "execution_count": 5,
   "metadata": {},
   "outputs": [
    {
     "name": "stdout",
     "output_type": "stream",
     "text": [
      "9\n",
      "646018383.1787\n",
      "[-0.03597053  0.2345147  -0.64420835  0.72712074]\n",
      "Ndets:  14932\n",
      "1367885\n"
     ]
    }
   ],
   "source": [
    "ebins0 = np.array([15.0, 24.0, 35.0, 48.0, 64.0])\n",
    "ebins0 = np.append(ebins0, np.logspace(np.log10(84.0), np.log10(500.0), 5+1))[:-1]\n",
    "ebins0 = np.round(ebins0, decimals=1)[:-1]\n",
    "ebins1 = np.append(ebins0[1:], [350.0])\n",
    "nebins = len(ebins0)\n",
    "print nebins\n",
    "\n",
    "work_dir = '/storage/work/jjd330/local/bat_data/realtime_workdir/F646018360/'\n",
    "conn = get_conn(os.path.join(work_dir,'results.db'))\n",
    "info_tab = get_info_tab(conn)\n",
    "trigger_time = info_tab['trigtimeMET'][0]\n",
    "print trigger_time\n",
    "\n",
    "evfname = os.path.join(work_dir,'filter_evdata.fits')\n",
    "ev_data = fits.open(evfname)[1].data\n",
    "GTI_PNT = Table.read(evfname, hdu='GTI_POINTING')\n",
    "GTI_SLEW = Table.read(evfname, hdu='GTI_SLEW')\n",
    "dmask = fits.open(os.path.join(work_dir,'detmask.fits'))[0].data\n",
    "attfile = fits.open(os.path.join(work_dir,'attitude.fits'))[1].data\n",
    "\n",
    "att_ind = np.argmin(np.abs(attfile['TIME'] - trigger_time))\n",
    "att_quat = attfile['QPARAM'][att_ind]\n",
    "print att_quat\n",
    "\n",
    "ndets = np.sum(dmask==0)\n",
    "print \"Ndets: \", np.sum(dmask==0)\n",
    "\n",
    "t_end = trigger_time + 1e3\n",
    "t_start = trigger_time - 1e3\n",
    "mask_vals = mask_detxy(dmask, ev_data)\n",
    "bl_dmask = (dmask==0.)\n",
    "\n",
    "bl_ev = (ev_data['EVENT_FLAGS']<1)&\\\n",
    "        (ev_data['ENERGY']<=500.)&(ev_data['ENERGY']>=14.)&\\\n",
    "        (mask_vals==0.)&(ev_data['TIME']<=t_end)&\\\n",
    "        (ev_data['TIME']>=t_start)\n",
    "\n",
    "print np.sum(bl_ev)\n",
    "ev_data0 = ev_data[bl_ev]"
   ]
  },
  {
   "cell_type": "code",
   "execution_count": 9,
   "metadata": {},
   "outputs": [
    {
     "name": "stdout",
     "output_type": "stream",
     "text": [
      "(38.54132137017975, 137.65241966813443)\n",
      "(-0.5887551341212707, -0.5366203642198198)\n"
     ]
    }
   ],
   "source": [
    "ra, dec = 233.117, -26.213 \n",
    "theta, phi = convert_radec2thetaphi(ra, dec, att_quat)\n",
    "print(theta, phi)\n",
    "imx, imy = convert_radec2imxy(ra, dec, att_quat)\n",
    "print(imx, imy)"
   ]
  },
  {
   "cell_type": "code",
   "execution_count": 10,
   "metadata": {},
   "outputs": [],
   "source": [
    "flux_params = {'A':1.0, 'gamma':0.5, 'Epeak':1e2}\n",
    "flux_mod = Cutoff_Plaw_Flux(E0=100.0)"
   ]
  },
  {
   "cell_type": "code",
   "execution_count": 11,
   "metadata": {},
   "outputs": [
    {
     "name": "stdout",
     "output_type": "stream",
     "text": [
      "INFO:root:0.02\n",
      "INFO:root:0.002\n"
     ]
    }
   ],
   "source": [
    "rt_obj = RayTraces(rt_dir)"
   ]
  },
  {
   "cell_type": "code",
   "execution_count": 27,
   "metadata": {},
   "outputs": [
    {
     "name": "stdout",
     "output_type": "stream",
     "text": [
      "(173, 286)\n"
     ]
    }
   ],
   "source": [
    "rt = rt_obj.get_intp_rt(imx, imy)\n",
    "print np.shape(rt)"
   ]
  },
  {
   "cell_type": "code",
   "execution_count": 12,
   "metadata": {},
   "outputs": [
    {
     "name": "stdout",
     "output_type": "stream",
     "text": [
      "CPU times: user 726 µs, sys: 0 ns, total: 726 µs\n",
      "Wall time: 601 µs\n"
     ]
    }
   ],
   "source": [
    "%%time\n",
    "sig_mod = Source_Model_InOutFoV(flux_mod, [ebins0,ebins1], bl_dmask,\\\n",
    "                                rt_obj, use_deriv=True)"
   ]
  },
  {
   "cell_type": "code",
   "execution_count": 13,
   "metadata": {},
   "outputs": [
    {
     "name": "stdout",
     "output_type": "stream",
     "text": [
      "INFO:root:Making new response object\n",
      "WARNING:astropy:hdu= was not specified but multiple tables are present, reading in first available table (hdu=1)\n"
     ]
    },
    {
     "name": "stderr",
     "output_type": "stream",
     "text": [
      "WARNING: hdu= was not specified but multiple tables are present, reading in first available table (hdu=1) [astropy.io.fits.connect]\n"
     ]
    },
    {
     "name": "stdout",
     "output_type": "stream",
     "text": [
      "(0.0, 30.48, -14.117)\n",
      "(0.0, 30.48, -14.117)\n",
      "36.0 45.0\n",
      "2.652419668134428\n",
      "42.34758033186557\n",
      "DEBUG:root:opening file: fwd_ray_trace_-0.60000_-0.54000_-0.58000_-0.52000_.npy\n"
     ]
    },
    {
     "name": "stderr",
     "output_type": "stream",
     "text": [
      "response.py:1499: RuntimeWarning: invalid value encountered in divide\n",
      "  (self.orig_photonEs[self.Einds1] - self.orig_photonEs[self.Einds0])\n"
     ]
    },
    {
     "name": "stdout",
     "output_type": "stream",
     "text": [
      "DEBUG:root:nbytes_total=95789408.0\n",
      "max rt: 0.8604\n",
      "DEBUG:root:Openning file: resp_by_sand_hpind_46.fits\n",
      "DEBUG:root:Openning file: resp_by_sand_hpind_47.fits\n",
      "DEBUG:root:Openning file: resp_by_sand_theta_0.fits\n",
      "initing ResponseDPI, with fname\n",
      "/storage/work/jjd330/local/bat_data/resp_tabs_ebins/drm_theta_36.0_phi_30.0_.fits\n",
      "initing ResponseDPI, with fname\n",
      "/storage/work/jjd330/local/bat_data/resp_tabs_ebins/drm_theta_36.0_phi_45.0_.fits\n",
      "initing ResponseDPI, with fname\n",
      "/storage/work/jjd330/local/bat_data/resp_tabs_ebins/drm_theta_45.0_phi_30.0_.fits\n",
      "initing ResponseDPI, with fname\n",
      "/storage/work/jjd330/local/bat_data/resp_tabs_ebins/drm_theta_45.0_phi_45.0_.fits\n",
      "CPU times: user 4.07 s, sys: 2.01 s, total: 6.08 s\n",
      "Wall time: 10.2 s\n"
     ]
    }
   ],
   "source": [
    "%%time\n",
    "sig_mod.set_theta_phi(theta, phi)"
   ]
  },
  {
   "cell_type": "code",
   "execution_count": 16,
   "metadata": {
    "scrolled": true
   },
   "outputs": [
    {
     "name": "stdout",
     "output_type": "stream",
     "text": [
      "['4U 1700-377', 'GRO J1655-40', 'GX 339-4', 'Sco X-1']\n",
      "INFO:root:0.02\n",
      "INFO:root:0.002\n",
      "DEBUG:root:opening file: fwd_ray_trace_-0.10000_-0.48000_-0.08000_-0.46000_.npy\n",
      "DEBUG:root:nbytes_total=95789408.0\n",
      "DEBUG:root:opening file: fwd_ray_trace_-0.12000_-0.54000_-0.10000_-0.52000_.npy\n",
      "DEBUG:root:nbytes_total=191578816.0\n",
      "DEBUG:root:opening file: fwd_ray_trace_0.00000_-0.70000_0.02000_-0.68000_.npy\n",
      "DEBUG:root:nbytes_total=287368224.0\n",
      "DEBUG:root:opening file: fwd_ray_trace_-0.50000_-0.22000_-0.48000_-0.20000_.npy\n",
      "DEBUG:root:nbytes_total=383157632.0\n"
     ]
    },
    {
     "data": {
      "text/plain": [
       "{'4U 1700-377_imx': -0.09814853057709713,\n",
       " '4U 1700-377_imy': -0.4742076074486664,\n",
       " '4U 1700-377_rate_0': 0.012490135921897544,\n",
       " '4U 1700-377_rate_1': 0.00724252648862388,\n",
       " '4U 1700-377_rate_2': 0.004529564586462892,\n",
       " '4U 1700-377_rate_3': 0.0016876913514016756,\n",
       " '4U 1700-377_rate_4': 0.0013255091059552946,\n",
       " '4U 1700-377_rate_5': 0.0012956105576278066,\n",
       " '4U 1700-377_rate_6': 0.0005834459169539205,\n",
       " '4U 1700-377_rate_7': 5e-08,\n",
       " '4U 1700-377_rate_8': 0.00014013200316638987,\n",
       " 'Background_bkg_rate_0': 0.09137032207011836,\n",
       " 'Background_bkg_rate_1': 0.0661578002239374,\n",
       " 'Background_bkg_rate_2': 0.040089856902610514,\n",
       " 'Background_bkg_rate_3': 0.039491993420780136,\n",
       " 'Background_bkg_rate_4': 0.03467802668352813,\n",
       " 'Background_bkg_rate_5': 0.0351076584048365,\n",
       " 'Background_bkg_rate_6': 0.03360249200395507,\n",
       " 'Background_bkg_rate_7': 0.024861082684787414,\n",
       " 'Background_bkg_rate_8': 0.01763994761450761,\n",
       " 'Background_flat_0': 0.0,\n",
       " 'Background_flat_1': 0.0,\n",
       " 'Background_flat_2': 0.18596326494289767,\n",
       " 'Background_flat_3': 0.07663442445332364,\n",
       " 'Background_flat_4': 0.3020855890115875,\n",
       " 'Background_flat_5': 0.7611510180823338,\n",
       " 'Background_flat_6': 0.8091430254293075,\n",
       " 'Background_flat_7': 1.0,\n",
       " 'Background_flat_8': 1.0,\n",
       " 'GRO J1655-40_imx': -0.11341596786535295,\n",
       " 'GRO J1655-40_imy': -0.5359750413588411,\n",
       " 'GRO J1655-40_rate_0': 0.005277185138471884,\n",
       " 'GRO J1655-40_rate_1': 0.002203663426192921,\n",
       " 'GRO J1655-40_rate_2': 0.00031497302758220266,\n",
       " 'GRO J1655-40_rate_3': 0.001764064431127689,\n",
       " 'GRO J1655-40_rate_4': 5e-08,\n",
       " 'GRO J1655-40_rate_5': 9.114980149845126e-05,\n",
       " 'GRO J1655-40_rate_6': 3.886335048265329e-05,\n",
       " 'GRO J1655-40_rate_7': 5e-08,\n",
       " 'GRO J1655-40_rate_8': 0.0007082358100819457,\n",
       " 'GX 339-4_imx': 0.008729300861405498,\n",
       " 'GX 339-4_imy': -0.6947927093434689,\n",
       " 'GX 339-4_rate_0': 0.0037893354510156046,\n",
       " 'GX 339-4_rate_1': 0.003214889430859694,\n",
       " 'GX 339-4_rate_2': 0.0017605414459212125,\n",
       " 'GX 339-4_rate_3': 0.0015331679372228933,\n",
       " 'GX 339-4_rate_4': 0.0015777295548874018,\n",
       " 'GX 339-4_rate_5': 0.0014172765864478645,\n",
       " 'GX 339-4_rate_6': 0.0008599988841135245,\n",
       " 'GX 339-4_rate_7': 0.0013329459515836204,\n",
       " 'GX 339-4_rate_8': 0.0005777085477427549,\n",
       " 'Sco X-1_imx': -0.4801793393603647,\n",
       " 'Sco X-1_imy': -0.20015662298079426,\n",
       " 'Sco X-1_rate_0': 0.04972196231874512,\n",
       " 'Sco X-1_rate_1': 0.005921355615060677,\n",
       " 'Sco X-1_rate_2': 5e-08,\n",
       " 'Sco X-1_rate_3': 0.0003592599287820135,\n",
       " 'Sco X-1_rate_4': 0.00040493931447181734,\n",
       " 'Sco X-1_rate_5': 5e-08,\n",
       " 'Sco X-1_rate_6': 5e-08,\n",
       " 'Sco X-1_rate_7': 5e-08,\n",
       " 'Sco X-1_rate_8': 6.897789976904059e-05}"
      ]
     },
     "execution_count": 16,
     "metadata": {},
     "output_type": "execute_result"
    }
   ],
   "source": [
    "from config import solid_angle_dpi_fname\n",
    "bkg_fname = os.path.join(work_dir,'bkg_estimation.csv')\n",
    "solid_ang_dpi = np.load(solid_angle_dpi_fname)\n",
    "bkg_df, bkg_name, PSnames, bkg_mod, ps_mods = parse_bkg_csv(bkg_fname, solid_ang_dpi,\\\n",
    "                    ebins0, ebins1, bl_dmask, rt_dir)\n",
    "bkg_mod.has_deriv = False\n",
    "bkg_mod_list = [bkg_mod]\n",
    "Nsrcs = len(ps_mods)\n",
    "if Nsrcs > 0:\n",
    "    bkg_mod_list += ps_mods\n",
    "    for ps_mod in ps_mods:\n",
    "        ps_mod.has_deriv = False\n",
    "    bkg_mod = CompoundModel(bkg_mod_list)\n",
    "tmid = trigger_time\n",
    "bkg_row = bkg_df.iloc[np.argmin(np.abs(tmid - bkg_df['time']))]\n",
    "bkg_params = {pname:bkg_row[pname] for pname in\\\n",
    "            bkg_mod.param_names}\n",
    "bkg_name = bkg_mod.name\n",
    "bkg_params"
   ]
  },
  {
   "cell_type": "code",
   "execution_count": 17,
   "metadata": {
    "scrolled": true
   },
   "outputs": [
    {
     "data": {
      "text/plain": [
       "{'Background+4U 1700-377+GRO J1655-40+GX 339-4+Sco X-1_4U 1700-377_imx': -0.09814853057709713,\n",
       " 'Background+4U 1700-377+GRO J1655-40+GX 339-4+Sco X-1_4U 1700-377_imy': -0.4742076074486664,\n",
       " 'Background+4U 1700-377+GRO J1655-40+GX 339-4+Sco X-1_4U 1700-377_rate_0': 0.012490135921897544,\n",
       " 'Background+4U 1700-377+GRO J1655-40+GX 339-4+Sco X-1_4U 1700-377_rate_1': 0.00724252648862388,\n",
       " 'Background+4U 1700-377+GRO J1655-40+GX 339-4+Sco X-1_4U 1700-377_rate_2': 0.004529564586462892,\n",
       " 'Background+4U 1700-377+GRO J1655-40+GX 339-4+Sco X-1_4U 1700-377_rate_3': 0.0016876913514016756,\n",
       " 'Background+4U 1700-377+GRO J1655-40+GX 339-4+Sco X-1_4U 1700-377_rate_4': 0.0013255091059552946,\n",
       " 'Background+4U 1700-377+GRO J1655-40+GX 339-4+Sco X-1_4U 1700-377_rate_5': 0.0012956105576278066,\n",
       " 'Background+4U 1700-377+GRO J1655-40+GX 339-4+Sco X-1_4U 1700-377_rate_6': 0.0005834459169539205,\n",
       " 'Background+4U 1700-377+GRO J1655-40+GX 339-4+Sco X-1_4U 1700-377_rate_7': 5e-08,\n",
       " 'Background+4U 1700-377+GRO J1655-40+GX 339-4+Sco X-1_4U 1700-377_rate_8': 0.00014013200316638987,\n",
       " 'Background+4U 1700-377+GRO J1655-40+GX 339-4+Sco X-1_Background_bkg_rate_0': 0.09137032207011836,\n",
       " 'Background+4U 1700-377+GRO J1655-40+GX 339-4+Sco X-1_Background_bkg_rate_1': 0.0661578002239374,\n",
       " 'Background+4U 1700-377+GRO J1655-40+GX 339-4+Sco X-1_Background_bkg_rate_2': 0.040089856902610514,\n",
       " 'Background+4U 1700-377+GRO J1655-40+GX 339-4+Sco X-1_Background_bkg_rate_3': 0.039491993420780136,\n",
       " 'Background+4U 1700-377+GRO J1655-40+GX 339-4+Sco X-1_Background_bkg_rate_4': 0.03467802668352813,\n",
       " 'Background+4U 1700-377+GRO J1655-40+GX 339-4+Sco X-1_Background_bkg_rate_5': 0.0351076584048365,\n",
       " 'Background+4U 1700-377+GRO J1655-40+GX 339-4+Sco X-1_Background_bkg_rate_6': 0.03360249200395507,\n",
       " 'Background+4U 1700-377+GRO J1655-40+GX 339-4+Sco X-1_Background_bkg_rate_7': 0.024861082684787414,\n",
       " 'Background+4U 1700-377+GRO J1655-40+GX 339-4+Sco X-1_Background_bkg_rate_8': 0.01763994761450761,\n",
       " 'Background+4U 1700-377+GRO J1655-40+GX 339-4+Sco X-1_Background_flat_0': 0.0,\n",
       " 'Background+4U 1700-377+GRO J1655-40+GX 339-4+Sco X-1_Background_flat_1': 0.0,\n",
       " 'Background+4U 1700-377+GRO J1655-40+GX 339-4+Sco X-1_Background_flat_2': 0.18596326494289767,\n",
       " 'Background+4U 1700-377+GRO J1655-40+GX 339-4+Sco X-1_Background_flat_3': 0.07663442445332364,\n",
       " 'Background+4U 1700-377+GRO J1655-40+GX 339-4+Sco X-1_Background_flat_4': 0.3020855890115875,\n",
       " 'Background+4U 1700-377+GRO J1655-40+GX 339-4+Sco X-1_Background_flat_5': 0.7611510180823338,\n",
       " 'Background+4U 1700-377+GRO J1655-40+GX 339-4+Sco X-1_Background_flat_6': 0.8091430254293075,\n",
       " 'Background+4U 1700-377+GRO J1655-40+GX 339-4+Sco X-1_Background_flat_7': 1.0,\n",
       " 'Background+4U 1700-377+GRO J1655-40+GX 339-4+Sco X-1_Background_flat_8': 1.0,\n",
       " 'Background+4U 1700-377+GRO J1655-40+GX 339-4+Sco X-1_GRO J1655-40_imx': -0.11341596786535295,\n",
       " 'Background+4U 1700-377+GRO J1655-40+GX 339-4+Sco X-1_GRO J1655-40_imy': -0.5359750413588411,\n",
       " 'Background+4U 1700-377+GRO J1655-40+GX 339-4+Sco X-1_GRO J1655-40_rate_0': 0.005277185138471884,\n",
       " 'Background+4U 1700-377+GRO J1655-40+GX 339-4+Sco X-1_GRO J1655-40_rate_1': 0.002203663426192921,\n",
       " 'Background+4U 1700-377+GRO J1655-40+GX 339-4+Sco X-1_GRO J1655-40_rate_2': 0.00031497302758220266,\n",
       " 'Background+4U 1700-377+GRO J1655-40+GX 339-4+Sco X-1_GRO J1655-40_rate_3': 0.001764064431127689,\n",
       " 'Background+4U 1700-377+GRO J1655-40+GX 339-4+Sco X-1_GRO J1655-40_rate_4': 5e-08,\n",
       " 'Background+4U 1700-377+GRO J1655-40+GX 339-4+Sco X-1_GRO J1655-40_rate_5': 9.114980149845126e-05,\n",
       " 'Background+4U 1700-377+GRO J1655-40+GX 339-4+Sco X-1_GRO J1655-40_rate_6': 3.886335048265329e-05,\n",
       " 'Background+4U 1700-377+GRO J1655-40+GX 339-4+Sco X-1_GRO J1655-40_rate_7': 5e-08,\n",
       " 'Background+4U 1700-377+GRO J1655-40+GX 339-4+Sco X-1_GRO J1655-40_rate_8': 0.0007082358100819457,\n",
       " 'Background+4U 1700-377+GRO J1655-40+GX 339-4+Sco X-1_GX 339-4_imx': 0.008729300861405498,\n",
       " 'Background+4U 1700-377+GRO J1655-40+GX 339-4+Sco X-1_GX 339-4_imy': -0.6947927093434689,\n",
       " 'Background+4U 1700-377+GRO J1655-40+GX 339-4+Sco X-1_GX 339-4_rate_0': 0.0037893354510156046,\n",
       " 'Background+4U 1700-377+GRO J1655-40+GX 339-4+Sco X-1_GX 339-4_rate_1': 0.003214889430859694,\n",
       " 'Background+4U 1700-377+GRO J1655-40+GX 339-4+Sco X-1_GX 339-4_rate_2': 0.0017605414459212125,\n",
       " 'Background+4U 1700-377+GRO J1655-40+GX 339-4+Sco X-1_GX 339-4_rate_3': 0.0015331679372228933,\n",
       " 'Background+4U 1700-377+GRO J1655-40+GX 339-4+Sco X-1_GX 339-4_rate_4': 0.0015777295548874018,\n",
       " 'Background+4U 1700-377+GRO J1655-40+GX 339-4+Sco X-1_GX 339-4_rate_5': 0.0014172765864478645,\n",
       " 'Background+4U 1700-377+GRO J1655-40+GX 339-4+Sco X-1_GX 339-4_rate_6': 0.0008599988841135245,\n",
       " 'Background+4U 1700-377+GRO J1655-40+GX 339-4+Sco X-1_GX 339-4_rate_7': 0.0013329459515836204,\n",
       " 'Background+4U 1700-377+GRO J1655-40+GX 339-4+Sco X-1_GX 339-4_rate_8': 0.0005777085477427549,\n",
       " 'Background+4U 1700-377+GRO J1655-40+GX 339-4+Sco X-1_Sco X-1_imx': -0.4801793393603647,\n",
       " 'Background+4U 1700-377+GRO J1655-40+GX 339-4+Sco X-1_Sco X-1_imy': -0.20015662298079426,\n",
       " 'Background+4U 1700-377+GRO J1655-40+GX 339-4+Sco X-1_Sco X-1_rate_0': 0.04972196231874512,\n",
       " 'Background+4U 1700-377+GRO J1655-40+GX 339-4+Sco X-1_Sco X-1_rate_1': 0.005921355615060677,\n",
       " 'Background+4U 1700-377+GRO J1655-40+GX 339-4+Sco X-1_Sco X-1_rate_2': 5e-08,\n",
       " 'Background+4U 1700-377+GRO J1655-40+GX 339-4+Sco X-1_Sco X-1_rate_3': 0.0003592599287820135,\n",
       " 'Background+4U 1700-377+GRO J1655-40+GX 339-4+Sco X-1_Sco X-1_rate_4': 0.00040493931447181734,\n",
       " 'Background+4U 1700-377+GRO J1655-40+GX 339-4+Sco X-1_Sco X-1_rate_5': 5e-08,\n",
       " 'Background+4U 1700-377+GRO J1655-40+GX 339-4+Sco X-1_Sco X-1_rate_6': 5e-08,\n",
       " 'Background+4U 1700-377+GRO J1655-40+GX 339-4+Sco X-1_Sco X-1_rate_7': 5e-08,\n",
       " 'Background+4U 1700-377+GRO J1655-40+GX 339-4+Sco X-1_Sco X-1_rate_8': 6.897789976904059e-05,\n",
       " 'Signal_A': 1.0,\n",
       " 'Signal_Epeak': 100.0,\n",
       " 'Signal_gamma': 0.5,\n",
       " 'Signal_phi': 137.65241966813443,\n",
       " 'Signal_theta': 38.54132137017975}"
      ]
     },
     "execution_count": 17,
     "metadata": {},
     "output_type": "execute_result"
    }
   ],
   "source": [
    "pars_ = {}\n",
    "pars_['Signal_theta'] = theta\n",
    "pars_['Signal_phi'] = phi\n",
    "for pname,val in bkg_params.iteritems():\n",
    "    pars_[bkg_name+'_'+pname] = val\n",
    "for pname,val in flux_params.iteritems():\n",
    "    pars_['Signal_'+pname] = val\n",
    "pars_"
   ]
  },
  {
   "cell_type": "code",
   "execution_count": 18,
   "metadata": {},
   "outputs": [],
   "source": [
    "comp_mod = CompoundModel([bkg_mod, sig_mod])\n",
    "\n",
    "sig_miner = NLLH_ScipyMinimize_Wjacob('')\n",
    "\n",
    "sig_llh_obj = LLH_webins(ev_data0, ebins0, ebins1, bl_dmask, has_err=True)\n",
    "\n",
    "sig_llh_obj.set_model(comp_mod)\n",
    "\n",
    "sig_miner.set_llh(sig_llh_obj)"
   ]
  },
  {
   "cell_type": "code",
   "execution_count": 19,
   "metadata": {},
   "outputs": [],
   "source": [
    "fixed_pnames = pars_.keys()\n",
    "fixed_vals = pars_.values()\n",
    "trans = [None for i in range(len(fixed_pnames))]\n",
    "sig_miner.set_trans(fixed_pnames, trans)\n",
    "sig_miner.set_fixed_params(fixed_pnames, values=fixed_vals)\n",
    "sig_miner.set_fixed_params(['Signal_A'], fixed=False)"
   ]
  },
  {
   "cell_type": "code",
   "execution_count": 20,
   "metadata": {},
   "outputs": [
    {
     "name": "stdout",
     "output_type": "stream",
     "text": [
      "CPU times: user 92.4 ms, sys: 994 µs, total: 93.4 ms\n",
      "Wall time: 127 ms\n"
     ]
    }
   ],
   "source": [
    "%%time\n",
    "flux_params['gamma'] = 0.8\n",
    "flux_params['Epeak'] = 350.0\n",
    "sig_mod.set_flux_params(flux_params)"
   ]
  },
  {
   "cell_type": "code",
   "execution_count": 21,
   "metadata": {},
   "outputs": [],
   "source": [
    "t0 = trigger_time - 0.512\n",
    "t1 = t0 + 2.048\n",
    "sig_llh_obj.set_time(t0, t1)"
   ]
  },
  {
   "cell_type": "code",
   "execution_count": 22,
   "metadata": {},
   "outputs": [
    {
     "name": "stdout",
     "output_type": "stream",
     "text": [
      "CPU times: user 93.4 ms, sys: 2.39 ms, total: 95.8 ms\n",
      "Wall time: 113 ms\n"
     ]
    }
   ],
   "source": [
    "%%time\n",
    "pars, nllh, res = sig_miner.minimize()"
   ]
  },
  {
   "cell_type": "code",
   "execution_count": 24,
   "metadata": {},
   "outputs": [
    {
     "name": "stdout",
     "output_type": "stream",
     "text": [
      "[      fun: 45894.07068100057\n",
      " hess_inv: <1x1 LbfgsInvHessProduct with dtype=float64>\n",
      "      jac: array([0.00239975])\n",
      "  message: 'CONVERGENCE: REL_REDUCTION_OF_F_<=_FACTR*EPSMCH'\n",
      "     nfev: 8\n",
      "      nit: 5\n",
      "   status: 0\n",
      "  success: True\n",
      "        x: array([0.006875])]\n",
      "[45894.07068100057]\n",
      "[[0.006875003655224621]]\n"
     ]
    }
   ],
   "source": [
    "print(res)\n",
    "print(nllh)\n",
    "print(pars)"
   ]
  },
  {
   "cell_type": "code",
   "execution_count": 26,
   "metadata": {},
   "outputs": [
    {
     "name": "stdout",
     "output_type": "stream",
     "text": [
      "46038.7433272\n",
      "17.010152627576055\n",
      "CPU times: user 9.21 ms, sys: 0 ns, total: 9.21 ms\n",
      "Wall time: 8.7 ms\n"
     ]
    }
   ],
   "source": [
    "%%time\n",
    "pars_['Signal_A'] = 1e-10\n",
    "bkg_nllh = -sig_llh_obj.get_logprob(pars_)\n",
    "print bkg_nllh\n",
    "sqrtTS = np.sqrt(2.*(bkg_nllh - nllh[0]))\n",
    "print sqrtTS"
   ]
  },
  {
   "cell_type": "code",
   "execution_count": null,
   "metadata": {},
   "outputs": [],
   "source": []
  }
 ],
 "metadata": {
  "kernelspec": {
   "display_name": "Python2.7-myenv",
   "language": "python",
   "name": "myenv"
  },
  "language_info": {
   "codemirror_mode": {
    "name": "ipython",
    "version": 2
   },
   "file_extension": ".py",
   "mimetype": "text/x-python",
   "name": "python",
   "nbconvert_exporter": "python",
   "pygments_lexer": "ipython2",
   "version": "2.7.15"
  }
 },
 "nbformat": 4,
 "nbformat_minor": 4
}
