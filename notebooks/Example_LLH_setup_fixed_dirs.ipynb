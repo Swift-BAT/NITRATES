{
 "cells": [
  {
   "cell_type": "code",
   "execution_count": 1,
   "metadata": {},
   "outputs": [],
   "source": [
    "import numpy as np\n",
    "from astropy.io import fits\n",
    "from astropy.table import Table, vstack\n",
    "from astropy.wcs import WCS\n",
    "import os\n",
    "from scipy import optimize, stats, interpolate\n",
    "from scipy.integrate import quad\n",
    "import argparse\n",
    "import time\n",
    "import multiprocessing as mp\n",
    "import matplotlib.pyplot as plt\n",
    "from matplotlib.colors import LogNorm\n",
    "from matplotlib import cm\n",
    "import sys\n",
    "import pandas as pd\n",
    "pd.options.display.max_columns = 250\n",
    "pd.options.display.max_rows = 250\n",
    "import healpy as hp\n",
    "from copy import copy, deepcopy\n",
    "# sys.path.append('BatML/')\n",
    "import logging, traceback\n",
    "import sys\n",
    "#logging.basicConfig(stream=sys.stdout, level=logging.DEBUG)"
   ]
  },
  {
   "cell_type": "markdown",
   "metadata": {},
   "source": [
    "#NITRATES_path = '/Users/tparsota/Documents/BAT_SCRIPTS/NITRATES/NITRATES_GIT/NITRATES'\n",
    "\n",
    "#%cd {NITRATES_path}\n",
    "\n",
    "The example notebooks need access to the F646018360 directory. also need to untar the F646018360_results.tar.gz file. \n",
    "\n",
    "first untar the file and then cp the files in the F646018360 directory to the untarred directory. \n",
    "Then the user has to run this notebook first and then the example_reading_results notebook."
   ]
  },
  {
   "cell_type": "code",
   "execution_count": 2,
   "metadata": {},
   "outputs": [],
   "source": [
    "# if the response directories are all put in the same directory\n",
    "# and given as an env variable (like in this cell), then config.py will \n",
    "# be able to find them correctly as long as they keep the original names \n",
    "# (Ex: ray trace directotry is still called 'ray_traces_detapp_npy')\n",
    "# These paths can also just be hardcoded into config.py\n",
    "# most of these paths can also be given directly as an argument to \n",
    "# some analysis objects, like Source_Model_InOutFoV()\n",
    "os.environ['NITRATES_RESP_DIR'] = '/Volumes/LaCie/NITRATES_BAT_RSP_FILES/'\n"
   ]
  },
  {
   "cell_type": "code",
   "execution_count": 3,
   "metadata": {},
   "outputs": [],
   "source": [
    "#from config import rt_dir\n",
    "#from ray_trace_funcs import RayTraces\n",
    "#from event2dpi_funcs import det2dpis, mask_detxy\n",
    "#from flux_models import Cutoff_Plaw_Flux, Plaw_Flux, get_eflux_from_model\n",
    "#from models import Source_Model_InOutFoV, Bkg_Model_wFlatA,\\\n",
    "#                CompoundModel, Point_Source_Model_Binned_Rates, im_dist\n",
    "#from ray_trace_funcs import RayTraces\n",
    "#from sqlite_funcs import get_conn\n",
    "#from dbread_funcs import get_info_tab, get_twinds_tab\n",
    "#from hp_funcs import ang_sep\n",
    "#from coord_conv_funcs import theta_phi2imxy, imxy2theta_phi, convert_imxy2radec,\\\n",
    "#                            convert_radec2thetaphi, convert_radec2imxy\n",
    "#from do_llh_inFoV4realtime2 import parse_bkg_csv\n",
    "#from LLH import LLH_webins\n",
    "#from minimizers import NLLH_ScipyMinimize_Wjacob"
   ]
  },
  {
   "cell_type": "code",
   "execution_count": 4,
   "metadata": {},
   "outputs": [
    {
     "name": "stderr",
     "output_type": "stream",
     "text": [
      "sh: https://heasarc.gsfc.nasa.gov/FTP/caldb/caldbinit.sh: No such file or directory\n"
     ]
    },
    {
     "name": "stdout",
     "output_type": "stream",
     "text": [
      "No module named 'ROOT'\n",
      "Please install the Python ROOT package to be able to run the full forward modeling calculations.\n",
      "16\n",
      "16\n",
      "[array([ 1,  2,  3,  4,  5,  6,  7,  8,  9, 10, 11, 12, 13, 14]), array([19, 20, 21, 22, 23, 24, 25, 26, 27, 28, 29, 30, 31, 32]), array([37, 38, 39, 40, 41, 42, 43, 44, 45, 46, 47, 48, 49, 50]), array([55, 56, 57, 58, 59, 60, 61, 62, 63, 64, 65, 66, 67, 68]), array([73, 74, 75, 76, 77, 78, 79, 80, 81, 82, 83, 84, 85, 86]), array([ 91,  92,  93,  94,  95,  96,  97,  98,  99, 100, 101, 102, 103,\n",
      "       104]), array([109, 110, 111, 112, 113, 114, 115, 116, 117, 118, 119, 120, 121,\n",
      "       122]), array([127, 128, 129, 130, 131, 132, 133, 134, 135, 136, 137, 138, 139,\n",
      "       140]), array([145, 146, 147, 148, 149, 150, 151, 152, 153, 154, 155, 156, 157,\n",
      "       158]), array([163, 164, 165, 166, 167, 168, 169, 170, 171, 172, 173, 174, 175,\n",
      "       176]), array([181, 182, 183, 184, 185, 186, 187, 188, 189, 190, 191, 192, 193,\n",
      "       194]), array([199, 200, 201, 202, 203, 204, 205, 206, 207, 208, 209, 210, 211,\n",
      "       212]), array([217, 218, 219, 220, 221, 222, 223, 224, 225, 226, 227, 228, 229,\n",
      "       230]), array([235, 236, 237, 238, 239, 240, 241, 242, 243, 244, 245, 246, 247,\n",
      "       248]), array([253, 254, 255, 256, 257, 258, 259, 260, 261, 262, 263, 264, 265,\n",
      "       266]), array([271, 272, 273, 274, 275, 276, 277, 278, 279, 280, 281, 282, 283,\n",
      "       284])]\n",
      "(173, 286) (173, 286)\n",
      "285 172\n",
      "16\n",
      "16\n",
      "[array([ 1,  2,  3,  4,  5,  6,  7,  8,  9, 10, 11, 12, 13, 14]), array([19, 20, 21, 22, 23, 24, 25, 26, 27, 28, 29, 30, 31, 32]), array([37, 38, 39, 40, 41, 42, 43, 44, 45, 46, 47, 48, 49, 50]), array([55, 56, 57, 58, 59, 60, 61, 62, 63, 64, 65, 66, 67, 68]), array([73, 74, 75, 76, 77, 78, 79, 80, 81, 82, 83, 84, 85, 86]), array([ 91,  92,  93,  94,  95,  96,  97,  98,  99, 100, 101, 102, 103,\n",
      "       104]), array([109, 110, 111, 112, 113, 114, 115, 116, 117, 118, 119, 120, 121,\n",
      "       122]), array([127, 128, 129, 130, 131, 132, 133, 134, 135, 136, 137, 138, 139,\n",
      "       140]), array([145, 146, 147, 148, 149, 150, 151, 152, 153, 154, 155, 156, 157,\n",
      "       158]), array([163, 164, 165, 166, 167, 168, 169, 170, 171, 172, 173, 174, 175,\n",
      "       176]), array([181, 182, 183, 184, 185, 186, 187, 188, 189, 190, 191, 192, 193,\n",
      "       194]), array([199, 200, 201, 202, 203, 204, 205, 206, 207, 208, 209, 210, 211,\n",
      "       212]), array([217, 218, 219, 220, 221, 222, 223, 224, 225, 226, 227, 228, 229,\n",
      "       230]), array([235, 236, 237, 238, 239, 240, 241, 242, 243, 244, 245, 246, 247,\n",
      "       248]), array([253, 254, 255, 256, 257, 258, 259, 260, 261, 262, 263, 264, 265,\n",
      "       266]), array([271, 272, 273, 274, 275, 276, 277, 278, 279, 280, 281, 282, 283,\n",
      "       284])]\n",
      "(173, 286) (173, 286)\n",
      "285 172\n",
      "16\n",
      "16\n",
      "[array([ 1,  2,  3,  4,  5,  6,  7,  8,  9, 10, 11, 12, 13, 14]), array([19, 20, 21, 22, 23, 24, 25, 26, 27, 28, 29, 30, 31, 32]), array([37, 38, 39, 40, 41, 42, 43, 44, 45, 46, 47, 48, 49, 50]), array([55, 56, 57, 58, 59, 60, 61, 62, 63, 64, 65, 66, 67, 68]), array([73, 74, 75, 76, 77, 78, 79, 80, 81, 82, 83, 84, 85, 86]), array([ 91,  92,  93,  94,  95,  96,  97,  98,  99, 100, 101, 102, 103,\n",
      "       104]), array([109, 110, 111, 112, 113, 114, 115, 116, 117, 118, 119, 120, 121,\n",
      "       122]), array([127, 128, 129, 130, 131, 132, 133, 134, 135, 136, 137, 138, 139,\n",
      "       140]), array([145, 146, 147, 148, 149, 150, 151, 152, 153, 154, 155, 156, 157,\n",
      "       158]), array([163, 164, 165, 166, 167, 168, 169, 170, 171, 172, 173, 174, 175,\n",
      "       176]), array([181, 182, 183, 184, 185, 186, 187, 188, 189, 190, 191, 192, 193,\n",
      "       194]), array([199, 200, 201, 202, 203, 204, 205, 206, 207, 208, 209, 210, 211,\n",
      "       212]), array([217, 218, 219, 220, 221, 222, 223, 224, 225, 226, 227, 228, 229,\n",
      "       230]), array([235, 236, 237, 238, 239, 240, 241, 242, 243, 244, 245, 246, 247,\n",
      "       248]), array([253, 254, 255, 256, 257, 258, 259, 260, 261, 262, 263, 264, 265,\n",
      "       266]), array([271, 272, 273, 274, 275, 276, 277, 278, 279, 280, 281, 282, 283,\n",
      "       284])]\n",
      "(173, 286) (173, 286)\n",
      "285 172\n",
      "16\n",
      "16\n",
      "[array([ 1,  2,  3,  4,  5,  6,  7,  8,  9, 10, 11, 12, 13, 14]), array([19, 20, 21, 22, 23, 24, 25, 26, 27, 28, 29, 30, 31, 32]), array([37, 38, 39, 40, 41, 42, 43, 44, 45, 46, 47, 48, 49, 50]), array([55, 56, 57, 58, 59, 60, 61, 62, 63, 64, 65, 66, 67, 68]), array([73, 74, 75, 76, 77, 78, 79, 80, 81, 82, 83, 84, 85, 86]), array([ 91,  92,  93,  94,  95,  96,  97,  98,  99, 100, 101, 102, 103,\n",
      "       104]), array([109, 110, 111, 112, 113, 114, 115, 116, 117, 118, 119, 120, 121,\n",
      "       122]), array([127, 128, 129, 130, 131, 132, 133, 134, 135, 136, 137, 138, 139,\n",
      "       140]), array([145, 146, 147, 148, 149, 150, 151, 152, 153, 154, 155, 156, 157,\n",
      "       158]), array([163, 164, 165, 166, 167, 168, 169, 170, 171, 172, 173, 174, 175,\n",
      "       176]), array([181, 182, 183, 184, 185, 186, 187, 188, 189, 190, 191, 192, 193,\n",
      "       194]), array([199, 200, 201, 202, 203, 204, 205, 206, 207, 208, 209, 210, 211,\n",
      "       212]), array([217, 218, 219, 220, 221, 222, 223, 224, 225, 226, 227, 228, 229,\n",
      "       230]), array([235, 236, 237, 238, 239, 240, 241, 242, 243, 244, 245, 246, 247,\n",
      "       248]), array([253, 254, 255, 256, 257, 258, 259, 260, 261, 262, 263, 264, 265,\n",
      "       266]), array([271, 272, 273, 274, 275, 276, 277, 278, 279, 280, 281, 282, 283,\n",
      "       284])]\n",
      "(173, 286) (173, 286)\n",
      "285 172\n",
      "16\n",
      "16\n",
      "[array([ 1,  2,  3,  4,  5,  6,  7,  8,  9, 10, 11, 12, 13, 14]), array([19, 20, 21, 22, 23, 24, 25, 26, 27, 28, 29, 30, 31, 32]), array([37, 38, 39, 40, 41, 42, 43, 44, 45, 46, 47, 48, 49, 50]), array([55, 56, 57, 58, 59, 60, 61, 62, 63, 64, 65, 66, 67, 68]), array([73, 74, 75, 76, 77, 78, 79, 80, 81, 82, 83, 84, 85, 86]), array([ 91,  92,  93,  94,  95,  96,  97,  98,  99, 100, 101, 102, 103,\n",
      "       104]), array([109, 110, 111, 112, 113, 114, 115, 116, 117, 118, 119, 120, 121,\n",
      "       122]), array([127, 128, 129, 130, 131, 132, 133, 134, 135, 136, 137, 138, 139,\n",
      "       140]), array([145, 146, 147, 148, 149, 150, 151, 152, 153, 154, 155, 156, 157,\n",
      "       158]), array([163, 164, 165, 166, 167, 168, 169, 170, 171, 172, 173, 174, 175,\n",
      "       176]), array([181, 182, 183, 184, 185, 186, 187, 188, 189, 190, 191, 192, 193,\n",
      "       194]), array([199, 200, 201, 202, 203, 204, 205, 206, 207, 208, 209, 210, 211,\n",
      "       212]), array([217, 218, 219, 220, 221, 222, 223, 224, 225, 226, 227, 228, 229,\n",
      "       230]), array([235, 236, 237, 238, 239, 240, 241, 242, 243, 244, 245, 246, 247,\n",
      "       248]), array([253, 254, 255, 256, 257, 258, 259, 260, 261, 262, 263, 264, 265,\n",
      "       266]), array([271, 272, 273, 274, 275, 276, 277, 278, 279, 280, 281, 282, 283,\n",
      "       284])]\n",
      "(173, 286) (173, 286)\n",
      "285 172\n",
      "No module named 'ROOT'\n",
      "Please install the Python ROOT package to be able to run the full forward modeling calculations.\n",
      "/Volumes/LaCie/NITRATES_BAT_RSP_FILES/ /Volumes/LaCie/NITRATES_BAT_RSP_FILES/ray_traces_detapp_npy\n"
     ]
    }
   ],
   "source": [
    "#%matplotlib inline\n",
    "import nitrates\n",
    "from nitrates.config import rt_dir, solid_angle_dpi_fname\n",
    "from nitrates.lib import get_conn, det2dpi, mask_detxy, get_info_tab, get_twinds_tab, ang_sep, theta_phi2imxy, \\\n",
    "    imxy2theta_phi, convert_imxy2radec, convert_radec2thetaphi, convert_radec2imxy\n",
    "from nitrates.response import RayTraces\n",
    "from nitrates.models import Cutoff_Plaw_Flux, Plaw_Flux, get_eflux_from_model, Source_Model_InOutFoV, \\\n",
    "    Bkg_Model_wFlatA, CompoundModel, Point_Source_Model_Binned_Rates, im_dist\n",
    "from nitrates.llh_analysis import parse_bkg_csv, LLH_webins, NLLH_ScipyMinimize_Wjacob\n",
    "print(nitrates.config.NITRATES_RESP_DIR, rt_dir)"
   ]
  },
  {
   "cell_type": "code",
   "execution_count": 5,
   "metadata": {},
   "outputs": [
    {
     "data": {
      "text/plain": [
       "0"
      ]
     },
     "execution_count": 5,
     "metadata": {},
     "output_type": "execute_result"
    }
   ],
   "source": [
    "os.system(f'cp -r ./F646018360 {nitrates.config.NITRATES_RESP_DIR}')\n",
    "os.system(f'tar -xzf csv_files.tar.gz -C {os.path.join(nitrates.config.NITRATES_RESP_DIR,\"F646018360/\")}')"
   ]
  },
  {
   "cell_type": "code",
   "execution_count": 6,
   "metadata": {},
   "outputs": [
    {
     "name": "stdout",
     "output_type": "stream",
     "text": [
      "Nebins:  9\n",
      "ebins0:  [ 15.   24.   35.   48.   64.   84.  120.  171.5 245. ]\n",
      "ebins1:  [ 24.   35.   48.   64.   84.  120.  171.5 245.  350. ]\n",
      "trigger_time:  646018383.1787\n",
      "attitude quaternion:  [-0.03597053  0.2345147  -0.64420835  0.72712074]\n",
      "Ndets:  14932\n",
      "Nevents:  1367885\n"
     ]
    }
   ],
   "source": [
    "ebins0 = np.array([15.0, 24.0, 35.0, 48.0, 64.0])\n",
    "ebins0 = np.append(ebins0, np.logspace(np.log10(84.0), np.log10(500.0), 5+1))[:-1]\n",
    "ebins0 = np.round(ebins0, decimals=1)[:-1]\n",
    "ebins1 = np.append(ebins0[1:], [350.0])\n",
    "nebins = len(ebins0)\n",
    "print(\"Nebins: \", nebins)\n",
    "print(\"ebins0: \", ebins0)\n",
    "print(\"ebins1: \", ebins1)\n",
    "\n",
    "# work_dir = '/storage/work/jjd330/local/bat_data/realtime_workdir/F646018360/'\n",
    "NITRATES_path=nitrates.config.NITRATES_RESP_DIR\n",
    "work_dir = os.path.join(NITRATES_path, 'F646018360')\n",
    "conn = get_conn(os.path.join(work_dir,'results.db'))\n",
    "info_tab = get_info_tab(conn)\n",
    "trigger_time = info_tab['trigtimeMET'][0]\n",
    "print('trigger_time: ', trigger_time)\n",
    "\n",
    "evfname = os.path.join(work_dir,'filter_evdata.fits')\n",
    "ev_data = fits.open(evfname)[1].data\n",
    "GTI_PNT = Table.read(evfname, hdu='GTI_POINTING')\n",
    "GTI_SLEW = Table.read(evfname, hdu='GTI_SLEW')\n",
    "dmask = fits.open(os.path.join(work_dir,'detmask.fits'))[0].data\n",
    "attfile = fits.open(os.path.join(work_dir,'attitude.fits'))[1].data\n",
    "\n",
    "att_ind = np.argmin(np.abs(attfile['TIME'] - trigger_time))\n",
    "att_quat = attfile['QPARAM'][att_ind]\n",
    "print('attitude quaternion: ', att_quat)\n",
    "\n",
    "ndets = np.sum(dmask==0)\n",
    "print(\"Ndets: \", np.sum(dmask==0))\n",
    "\n",
    "t_end = trigger_time + 1e3\n",
    "t_start = trigger_time - 1e3\n",
    "mask_vals = mask_detxy(dmask, ev_data)\n",
    "bl_dmask = (dmask==0.)\n",
    "\n",
    "bl_ev = (ev_data['EVENT_FLAGS']<1)&\\\n",
    "        (ev_data['ENERGY']<=500.)&(ev_data['ENERGY']>=14.)&\\\n",
    "        (mask_vals==0.)&(ev_data['TIME']<=t_end)&\\\n",
    "        (ev_data['TIME']>=t_start)\n",
    "\n",
    "print(\"Nevents: \",np.sum(bl_ev))\n",
    "ev_data0 = ev_data[bl_ev]"
   ]
  },
  {
   "cell_type": "code",
   "execution_count": 7,
   "metadata": {},
   "outputs": [
    {
     "name": "stdout",
     "output_type": "stream",
     "text": [
      "38.54132137017975 137.65241966813443\n",
      "-0.5887551341212709 -0.5366203642198198\n"
     ]
    }
   ],
   "source": [
    "ra, dec = 233.117, -26.213 \n",
    "theta, phi = convert_radec2thetaphi(ra, dec, att_quat)\n",
    "print(theta, phi)\n",
    "imx, imy = convert_radec2imxy(ra, dec, att_quat)\n",
    "print(imx, imy)"
   ]
  },
  {
   "cell_type": "code",
   "execution_count": 8,
   "metadata": {},
   "outputs": [],
   "source": [
    "flux_params = {'A':1.0, 'gamma':0.5, 'Epeak':1e2}\n",
    "flux_mod = Cutoff_Plaw_Flux(E0=100.0)"
   ]
  },
  {
   "cell_type": "code",
   "execution_count": 9,
   "metadata": {},
   "outputs": [],
   "source": [
    "# use rt_dir from config.py or\n",
    "# rt_dir = '/path/to/ray_traces_detapp_npy/'\n",
    "rt_obj = RayTraces(rt_dir)"
   ]
  },
  {
   "cell_type": "code",
   "execution_count": 10,
   "metadata": {},
   "outputs": [
    {
     "name": "stdout",
     "output_type": "stream",
     "text": [
      "(173, 286)\n"
     ]
    }
   ],
   "source": [
    "rt = rt_obj.get_intp_rt(imx, imy)\n",
    "print(np.shape(rt))"
   ]
  },
  {
   "cell_type": "code",
   "execution_count": 11,
   "metadata": {},
   "outputs": [
    {
     "name": "stdout",
     "output_type": "stream",
     "text": [
      "CPU times: user 1.98 ms, sys: 1.22 ms, total: 3.2 ms\n",
      "Wall time: 1.84 ms\n"
     ]
    }
   ],
   "source": [
    "%%time\n",
    "# will by default use the resp directories from config.py\n",
    "sig_mod = Source_Model_InOutFoV(flux_mod, [ebins0,ebins1], bl_dmask,\\\n",
    "                                rt_obj, use_deriv=True)\n",
    "# or the paths can be given\n",
    "# resp_tab_dname = '/path/to/resp_tabs_ebins/'\n",
    "# hp_flor_resp_dname = '/path/to/hp_flor_resps/'\n",
    "# comp_flor_resp_dname = '/path/to/comp_flor_resps/'\n",
    "# sig_mod = Source_Model_InOutFoV(flux_mod, [ebins0,ebins1], bl_dmask,\\\n",
    "#                                 rt_obj, use_deriv=True,\\\n",
    "#                                 resp_tab_dname=resp_tab_dname,\\\n",
    "#                                 hp_flor_resp_dname=hp_flor_resp_dname,\\\n",
    "#                                 comp_flor_resp_dname=comp_flor_resp_dname)"
   ]
  },
  {
   "cell_type": "code",
   "execution_count": 12,
   "metadata": {},
   "outputs": [
    {
     "name": "stderr",
     "output_type": "stream",
     "text": [
      "WARNING: hdu= was not specified but multiple tables are present, reading in first available table (hdu=1) [astropy.io.fits.connect]\n",
      "WARNING:astropy:hdu= was not specified but multiple tables are present, reading in first available table (hdu=1)\n"
     ]
    },
    {
     "name": "stdout",
     "output_type": "stream",
     "text": [
      "(0.0, 30.48, -14.117)\n"
     ]
    },
    {
     "name": "stderr",
     "output_type": "stream",
     "text": [
      "/Users/tparsota/opt/anaconda3/envs/nitrates_test/lib/python3.8/site-packages/numba/core/ir_utils.py:2119: NumbaPendingDeprecationWarning: \n",
      "Encountered the use of a type that is scheduled for deprecation: type 'reflected list' found for argument 'wall_bnds' of function 'get_norm_vec_from_wall_bnds'.\n",
      "\n",
      "For more information visit https://numba.pydata.org/numba-doc/latest/reference/deprecation.html#deprecation-of-reflection-for-list-and-set-types\n",
      "\n",
      "File \"../nitrates/response/shield_structure.py\", line 10:\n",
      "@njit(cache=True, fastmath=True)\n",
      "def get_norm_vec_from_wall_bnds(wall_bnds):\n",
      "^\n",
      "\n",
      "  warnings.warn(NumbaPendingDeprecationWarning(msg, loc=loc))\n"
     ]
    },
    {
     "name": "stdout",
     "output_type": "stream",
     "text": [
      "(0.0, 30.48, -14.117)\n"
     ]
    },
    {
     "name": "stderr",
     "output_type": "stream",
     "text": [
      "/Users/tparsota/Library/CloudStorage/OneDrive-NASA/BAT_SCRIPTS/NITRATES/NITRATES_GIT/NITRATES/nitrates/response/response.py:1499: RuntimeWarning: invalid value encountered in divide\n",
      "  self.E_A0s = (self.orig_photonEs[self.Einds1] - self.photonEs) /\\\n"
     ]
    },
    {
     "name": "stdout",
     "output_type": "stream",
     "text": [
      "(36.0, 45.0)\n",
      "2.652419668134428\n",
      "42.34758033186557\n"
     ]
    },
    {
     "name": "stderr",
     "output_type": "stream",
     "text": [
      "/Users/tparsota/opt/anaconda3/envs/nitrates_test/lib/python3.8/site-packages/numba/core/ir_utils.py:2119: NumbaPendingDeprecationWarning: \n",
      "Encountered the use of a type that is scheduled for deprecation: type 'reflected list' found for argument 'wall_bnds' of function 'get_intersection_pnts'.\n",
      "\n",
      "For more information visit https://numba.pydata.org/numba-doc/latest/reference/deprecation.html#deprecation-of-reflection-for-list-and-set-types\n",
      "\n",
      "File \"../nitrates/response/shield_structure.py\", line 60:\n",
      "@njit(cache=True)\n",
      "def get_intersection_pnts(wall_bnds, gam_theta, gam_phi, batxs, batys, batzs):\n",
      "^\n",
      "\n",
      "  warnings.warn(NumbaPendingDeprecationWarning(msg, loc=loc))\n"
     ]
    },
    {
     "name": "stdout",
     "output_type": "stream",
     "text": [
      "max rt: 0.8604\n"
     ]
    },
    {
     "name": "stderr",
     "output_type": "stream",
     "text": [
      "/Users/tparsota/Library/CloudStorage/OneDrive-NASA/BAT_SCRIPTS/NITRATES/NITRATES_GIT/NITRATES/nitrates/response/response.py:1499: RuntimeWarning: invalid value encountered in divide\n",
      "  self.E_A0s = (self.orig_photonEs[self.Einds1] - self.photonEs) /\\\n"
     ]
    },
    {
     "name": "stdout",
     "output_type": "stream",
     "text": [
      "initing ResponseDPI, with fname\n",
      "/Volumes/LaCie/NITRATES_BAT_RSP_FILES/resp_tabs_ebins/drm_theta_36.0_phi_30.0_.fits\n"
     ]
    },
    {
     "name": "stderr",
     "output_type": "stream",
     "text": [
      "WARNING: hdu= was not specified but multiple tables are present, reading in first available table (hdu=1) [astropy.io.fits.connect]\n",
      "WARNING:astropy:hdu= was not specified but multiple tables are present, reading in first available table (hdu=1)\n"
     ]
    },
    {
     "name": "stdout",
     "output_type": "stream",
     "text": [
      "initing ResponseDPI, with fname\n",
      "/Volumes/LaCie/NITRATES_BAT_RSP_FILES/resp_tabs_ebins/drm_theta_36.0_phi_45.0_.fits\n",
      "initing ResponseDPI, with fname\n",
      "/Volumes/LaCie/NITRATES_BAT_RSP_FILES/resp_tabs_ebins/drm_theta_45.0_phi_30.0_.fits\n",
      "initing ResponseDPI, with fname\n",
      "/Volumes/LaCie/NITRATES_BAT_RSP_FILES/resp_tabs_ebins/drm_theta_45.0_phi_45.0_.fits\n",
      "CPU times: user 8.9 s, sys: 2.16 s, total: 11.1 s\n",
      "Wall time: 20.9 s\n"
     ]
    }
   ],
   "source": [
    "%%time\n",
    "sig_mod.set_theta_phi(theta, phi)"
   ]
  },
  {
   "cell_type": "code",
   "execution_count": 13,
   "metadata": {
    "scrolled": true
   },
   "outputs": [
    {
     "name": "stdout",
     "output_type": "stream",
     "text": [
      "['4U 1700-377', 'GRO J1655-40', 'GX 339-4', 'Sco X-1']\n"
     ]
    },
    {
     "data": {
      "text/plain": [
       "{'Background_bkg_rate_0': 0.0913703220701183,\n",
       " 'Background_bkg_rate_1': 0.0661578002239374,\n",
       " 'Background_bkg_rate_2': 0.0400898569026105,\n",
       " 'Background_bkg_rate_3': 0.0394919934207801,\n",
       " 'Background_bkg_rate_4': 0.0346780266835281,\n",
       " 'Background_bkg_rate_5': 0.0351076584048365,\n",
       " 'Background_bkg_rate_6': 0.033602492003955,\n",
       " 'Background_bkg_rate_7': 0.0248610826847874,\n",
       " 'Background_bkg_rate_8': 0.0176399476145076,\n",
       " 'Background_flat_0': 0.0,\n",
       " 'Background_flat_1': 0.0,\n",
       " 'Background_flat_2': 0.1859632649428977,\n",
       " 'Background_flat_3': 0.0766344244533236,\n",
       " 'Background_flat_4': 0.3020855890115875,\n",
       " 'Background_flat_5': 0.7611510180823338,\n",
       " 'Background_flat_6': 0.8091430254293075,\n",
       " 'Background_flat_7': 1.0,\n",
       " 'Background_flat_8': 1.0,\n",
       " '4U 1700-377_imx': -0.0981485305770971,\n",
       " '4U 1700-377_imy': -0.4742076074486664,\n",
       " '4U 1700-377_rate_0': 0.0124901359218975,\n",
       " '4U 1700-377_rate_1': 0.0072425264886238,\n",
       " '4U 1700-377_rate_2': 0.0045295645864628,\n",
       " '4U 1700-377_rate_3': 0.0016876913514016,\n",
       " '4U 1700-377_rate_4': 0.0013255091059552,\n",
       " '4U 1700-377_rate_5': 0.0012956105576278,\n",
       " '4U 1700-377_rate_6': 0.0005834459169539,\n",
       " '4U 1700-377_rate_7': 5e-08,\n",
       " '4U 1700-377_rate_8': 0.0001401320031663,\n",
       " 'GRO J1655-40_imx': -0.1134159678653529,\n",
       " 'GRO J1655-40_imy': -0.5359750413588411,\n",
       " 'GRO J1655-40_rate_0': 0.0052771851384718,\n",
       " 'GRO J1655-40_rate_1': 0.0022036634261929,\n",
       " 'GRO J1655-40_rate_2': 0.0003149730275822,\n",
       " 'GRO J1655-40_rate_3': 0.0017640644311276,\n",
       " 'GRO J1655-40_rate_4': 5e-08,\n",
       " 'GRO J1655-40_rate_5': 9.114980149845126e-05,\n",
       " 'GRO J1655-40_rate_6': 3.88633504826533e-05,\n",
       " 'GRO J1655-40_rate_7': 5e-08,\n",
       " 'GRO J1655-40_rate_8': 0.0007082358100819,\n",
       " 'GX 339-4_imx': 0.0087293008614054,\n",
       " 'GX 339-4_imy': -0.6947927093434689,\n",
       " 'GX 339-4_rate_0': 0.0037893354510156,\n",
       " 'GX 339-4_rate_1': 0.0032148894308596,\n",
       " 'GX 339-4_rate_2': 0.0017605414459212,\n",
       " 'GX 339-4_rate_3': 0.0015331679372228,\n",
       " 'GX 339-4_rate_4': 0.0015777295548874,\n",
       " 'GX 339-4_rate_5': 0.0014172765864478,\n",
       " 'GX 339-4_rate_6': 0.0008599988841135,\n",
       " 'GX 339-4_rate_7': 0.0013329459515836,\n",
       " 'GX 339-4_rate_8': 0.0005777085477427,\n",
       " 'Sco X-1_imx': -0.4801793393603647,\n",
       " 'Sco X-1_imy': -0.2001566229807942,\n",
       " 'Sco X-1_rate_0': 0.0497219623187451,\n",
       " 'Sco X-1_rate_1': 0.0059213556150606,\n",
       " 'Sco X-1_rate_2': 5e-08,\n",
       " 'Sco X-1_rate_3': 0.000359259928782,\n",
       " 'Sco X-1_rate_4': 0.0004049393144718,\n",
       " 'Sco X-1_rate_5': 5e-08,\n",
       " 'Sco X-1_rate_6': 5e-08,\n",
       " 'Sco X-1_rate_7': 5e-08,\n",
       " 'Sco X-1_rate_8': 6.897789976904059e-05}"
      ]
     },
     "execution_count": 13,
     "metadata": {},
     "output_type": "execute_result"
    }
   ],
   "source": [
    "#from nitrates.config import solid_angle_dpi_fname\n",
    "# or give the path directly\n",
    "# solid_angle_dpi_fname = '/path/to/solid_angle_dpi.npy'\n",
    "bkg_fname = os.path.join(work_dir,'bkg_estimation.csv')\n",
    "solid_ang_dpi = np.load(solid_angle_dpi_fname)\n",
    "bkg_df, bkg_name, PSnames, bkg_mod, ps_mods = parse_bkg_csv(bkg_fname, solid_ang_dpi,\\\n",
    "                    ebins0, ebins1, bl_dmask, rt_dir)\n",
    "bkg_mod.has_deriv = False\n",
    "bkg_mod_list = [bkg_mod]\n",
    "Nsrcs = len(ps_mods)\n",
    "if Nsrcs > 0:\n",
    "    bkg_mod_list += ps_mods\n",
    "    for ps_mod in ps_mods:\n",
    "        ps_mod.has_deriv = False\n",
    "    bkg_mod = CompoundModel(bkg_mod_list)\n",
    "tmid = trigger_time\n",
    "bkg_row = bkg_df.iloc[np.argmin(np.abs(tmid - bkg_df['time']))]\n",
    "bkg_params = {pname:bkg_row[pname] for pname in\\\n",
    "            bkg_mod.param_names}\n",
    "bkg_name = bkg_mod.name\n",
    "bkg_params"
   ]
  },
  {
   "cell_type": "code",
   "execution_count": 14,
   "metadata": {
    "scrolled": true
   },
   "outputs": [
    {
     "data": {
      "text/plain": [
       "{'Signal_theta': 38.54132137017975,\n",
       " 'Signal_phi': 137.65241966813443,\n",
       " 'Background+4U 1700-377+GRO J1655-40+GX 339-4+Sco X-1_Background_bkg_rate_0': 0.0913703220701183,\n",
       " 'Background+4U 1700-377+GRO J1655-40+GX 339-4+Sco X-1_Background_bkg_rate_1': 0.0661578002239374,\n",
       " 'Background+4U 1700-377+GRO J1655-40+GX 339-4+Sco X-1_Background_bkg_rate_2': 0.0400898569026105,\n",
       " 'Background+4U 1700-377+GRO J1655-40+GX 339-4+Sco X-1_Background_bkg_rate_3': 0.0394919934207801,\n",
       " 'Background+4U 1700-377+GRO J1655-40+GX 339-4+Sco X-1_Background_bkg_rate_4': 0.0346780266835281,\n",
       " 'Background+4U 1700-377+GRO J1655-40+GX 339-4+Sco X-1_Background_bkg_rate_5': 0.0351076584048365,\n",
       " 'Background+4U 1700-377+GRO J1655-40+GX 339-4+Sco X-1_Background_bkg_rate_6': 0.033602492003955,\n",
       " 'Background+4U 1700-377+GRO J1655-40+GX 339-4+Sco X-1_Background_bkg_rate_7': 0.0248610826847874,\n",
       " 'Background+4U 1700-377+GRO J1655-40+GX 339-4+Sco X-1_Background_bkg_rate_8': 0.0176399476145076,\n",
       " 'Background+4U 1700-377+GRO J1655-40+GX 339-4+Sco X-1_Background_flat_0': 0.0,\n",
       " 'Background+4U 1700-377+GRO J1655-40+GX 339-4+Sco X-1_Background_flat_1': 0.0,\n",
       " 'Background+4U 1700-377+GRO J1655-40+GX 339-4+Sco X-1_Background_flat_2': 0.1859632649428977,\n",
       " 'Background+4U 1700-377+GRO J1655-40+GX 339-4+Sco X-1_Background_flat_3': 0.0766344244533236,\n",
       " 'Background+4U 1700-377+GRO J1655-40+GX 339-4+Sco X-1_Background_flat_4': 0.3020855890115875,\n",
       " 'Background+4U 1700-377+GRO J1655-40+GX 339-4+Sco X-1_Background_flat_5': 0.7611510180823338,\n",
       " 'Background+4U 1700-377+GRO J1655-40+GX 339-4+Sco X-1_Background_flat_6': 0.8091430254293075,\n",
       " 'Background+4U 1700-377+GRO J1655-40+GX 339-4+Sco X-1_Background_flat_7': 1.0,\n",
       " 'Background+4U 1700-377+GRO J1655-40+GX 339-4+Sco X-1_Background_flat_8': 1.0,\n",
       " 'Background+4U 1700-377+GRO J1655-40+GX 339-4+Sco X-1_4U 1700-377_imx': -0.0981485305770971,\n",
       " 'Background+4U 1700-377+GRO J1655-40+GX 339-4+Sco X-1_4U 1700-377_imy': -0.4742076074486664,\n",
       " 'Background+4U 1700-377+GRO J1655-40+GX 339-4+Sco X-1_4U 1700-377_rate_0': 0.0124901359218975,\n",
       " 'Background+4U 1700-377+GRO J1655-40+GX 339-4+Sco X-1_4U 1700-377_rate_1': 0.0072425264886238,\n",
       " 'Background+4U 1700-377+GRO J1655-40+GX 339-4+Sco X-1_4U 1700-377_rate_2': 0.0045295645864628,\n",
       " 'Background+4U 1700-377+GRO J1655-40+GX 339-4+Sco X-1_4U 1700-377_rate_3': 0.0016876913514016,\n",
       " 'Background+4U 1700-377+GRO J1655-40+GX 339-4+Sco X-1_4U 1700-377_rate_4': 0.0013255091059552,\n",
       " 'Background+4U 1700-377+GRO J1655-40+GX 339-4+Sco X-1_4U 1700-377_rate_5': 0.0012956105576278,\n",
       " 'Background+4U 1700-377+GRO J1655-40+GX 339-4+Sco X-1_4U 1700-377_rate_6': 0.0005834459169539,\n",
       " 'Background+4U 1700-377+GRO J1655-40+GX 339-4+Sco X-1_4U 1700-377_rate_7': 5e-08,\n",
       " 'Background+4U 1700-377+GRO J1655-40+GX 339-4+Sco X-1_4U 1700-377_rate_8': 0.0001401320031663,\n",
       " 'Background+4U 1700-377+GRO J1655-40+GX 339-4+Sco X-1_GRO J1655-40_imx': -0.1134159678653529,\n",
       " 'Background+4U 1700-377+GRO J1655-40+GX 339-4+Sco X-1_GRO J1655-40_imy': -0.5359750413588411,\n",
       " 'Background+4U 1700-377+GRO J1655-40+GX 339-4+Sco X-1_GRO J1655-40_rate_0': 0.0052771851384718,\n",
       " 'Background+4U 1700-377+GRO J1655-40+GX 339-4+Sco X-1_GRO J1655-40_rate_1': 0.0022036634261929,\n",
       " 'Background+4U 1700-377+GRO J1655-40+GX 339-4+Sco X-1_GRO J1655-40_rate_2': 0.0003149730275822,\n",
       " 'Background+4U 1700-377+GRO J1655-40+GX 339-4+Sco X-1_GRO J1655-40_rate_3': 0.0017640644311276,\n",
       " 'Background+4U 1700-377+GRO J1655-40+GX 339-4+Sco X-1_GRO J1655-40_rate_4': 5e-08,\n",
       " 'Background+4U 1700-377+GRO J1655-40+GX 339-4+Sco X-1_GRO J1655-40_rate_5': 9.114980149845126e-05,\n",
       " 'Background+4U 1700-377+GRO J1655-40+GX 339-4+Sco X-1_GRO J1655-40_rate_6': 3.88633504826533e-05,\n",
       " 'Background+4U 1700-377+GRO J1655-40+GX 339-4+Sco X-1_GRO J1655-40_rate_7': 5e-08,\n",
       " 'Background+4U 1700-377+GRO J1655-40+GX 339-4+Sco X-1_GRO J1655-40_rate_8': 0.0007082358100819,\n",
       " 'Background+4U 1700-377+GRO J1655-40+GX 339-4+Sco X-1_GX 339-4_imx': 0.0087293008614054,\n",
       " 'Background+4U 1700-377+GRO J1655-40+GX 339-4+Sco X-1_GX 339-4_imy': -0.6947927093434689,\n",
       " 'Background+4U 1700-377+GRO J1655-40+GX 339-4+Sco X-1_GX 339-4_rate_0': 0.0037893354510156,\n",
       " 'Background+4U 1700-377+GRO J1655-40+GX 339-4+Sco X-1_GX 339-4_rate_1': 0.0032148894308596,\n",
       " 'Background+4U 1700-377+GRO J1655-40+GX 339-4+Sco X-1_GX 339-4_rate_2': 0.0017605414459212,\n",
       " 'Background+4U 1700-377+GRO J1655-40+GX 339-4+Sco X-1_GX 339-4_rate_3': 0.0015331679372228,\n",
       " 'Background+4U 1700-377+GRO J1655-40+GX 339-4+Sco X-1_GX 339-4_rate_4': 0.0015777295548874,\n",
       " 'Background+4U 1700-377+GRO J1655-40+GX 339-4+Sco X-1_GX 339-4_rate_5': 0.0014172765864478,\n",
       " 'Background+4U 1700-377+GRO J1655-40+GX 339-4+Sco X-1_GX 339-4_rate_6': 0.0008599988841135,\n",
       " 'Background+4U 1700-377+GRO J1655-40+GX 339-4+Sco X-1_GX 339-4_rate_7': 0.0013329459515836,\n",
       " 'Background+4U 1700-377+GRO J1655-40+GX 339-4+Sco X-1_GX 339-4_rate_8': 0.0005777085477427,\n",
       " 'Background+4U 1700-377+GRO J1655-40+GX 339-4+Sco X-1_Sco X-1_imx': -0.4801793393603647,\n",
       " 'Background+4U 1700-377+GRO J1655-40+GX 339-4+Sco X-1_Sco X-1_imy': -0.2001566229807942,\n",
       " 'Background+4U 1700-377+GRO J1655-40+GX 339-4+Sco X-1_Sco X-1_rate_0': 0.0497219623187451,\n",
       " 'Background+4U 1700-377+GRO J1655-40+GX 339-4+Sco X-1_Sco X-1_rate_1': 0.0059213556150606,\n",
       " 'Background+4U 1700-377+GRO J1655-40+GX 339-4+Sco X-1_Sco X-1_rate_2': 5e-08,\n",
       " 'Background+4U 1700-377+GRO J1655-40+GX 339-4+Sco X-1_Sco X-1_rate_3': 0.000359259928782,\n",
       " 'Background+4U 1700-377+GRO J1655-40+GX 339-4+Sco X-1_Sco X-1_rate_4': 0.0004049393144718,\n",
       " 'Background+4U 1700-377+GRO J1655-40+GX 339-4+Sco X-1_Sco X-1_rate_5': 5e-08,\n",
       " 'Background+4U 1700-377+GRO J1655-40+GX 339-4+Sco X-1_Sco X-1_rate_6': 5e-08,\n",
       " 'Background+4U 1700-377+GRO J1655-40+GX 339-4+Sco X-1_Sco X-1_rate_7': 5e-08,\n",
       " 'Background+4U 1700-377+GRO J1655-40+GX 339-4+Sco X-1_Sco X-1_rate_8': 6.897789976904059e-05,\n",
       " 'Signal_A': 1.0,\n",
       " 'Signal_gamma': 0.5,\n",
       " 'Signal_Epeak': 100.0}"
      ]
     },
     "execution_count": 14,
     "metadata": {},
     "output_type": "execute_result"
    }
   ],
   "source": [
    "pars_ = {}\n",
    "pars_['Signal_theta'] = theta\n",
    "pars_['Signal_phi'] = phi\n",
    "for pname,val in list(bkg_params.items()):\n",
    "    pars_[bkg_name+'_'+pname] = val\n",
    "for pname,val in list(flux_params.items()):\n",
    "    pars_['Signal_'+pname] = val\n",
    "pars_"
   ]
  },
  {
   "cell_type": "code",
   "execution_count": 15,
   "metadata": {},
   "outputs": [],
   "source": [
    "comp_mod = CompoundModel([bkg_mod, sig_mod])\n",
    "\n",
    "sig_miner = NLLH_ScipyMinimize_Wjacob('')\n",
    "\n",
    "sig_llh_obj = LLH_webins(ev_data0, ebins0, ebins1, bl_dmask, has_err=True)\n",
    "\n",
    "sig_llh_obj.set_model(comp_mod)\n",
    "\n",
    "sig_miner.set_llh(sig_llh_obj)"
   ]
  },
  {
   "cell_type": "code",
   "execution_count": 16,
   "metadata": {},
   "outputs": [],
   "source": [
    "fixed_pnames = list(pars_.keys())\n",
    "fixed_vals = list(pars_.values())\n",
    "trans = [None for i in range(len(fixed_pnames))]\n",
    "sig_miner.set_trans(fixed_pnames, trans)\n",
    "sig_miner.set_fixed_params(fixed_pnames, values=fixed_vals)\n",
    "sig_miner.set_fixed_params(['Signal_A'], fixed=False)"
   ]
  },
  {
   "cell_type": "code",
   "execution_count": 17,
   "metadata": {},
   "outputs": [],
   "source": [
    "#%%time\n",
    "flux_params['gamma'] = 0.8\n",
    "flux_params['Epeak'] = 350.0\n",
    "sig_mod.set_flux_params(flux_params)"
   ]
  },
  {
   "cell_type": "code",
   "execution_count": 18,
   "metadata": {},
   "outputs": [],
   "source": [
    "t0 = trigger_time - 0.512\n",
    "t1 = t0 + 2.048\n",
    "sig_llh_obj.set_time(t0, t1)"
   ]
  },
  {
   "cell_type": "code",
   "execution_count": 19,
   "metadata": {},
   "outputs": [],
   "source": [
    "#%%time\n",
    "pars, nllh, res = sig_miner.minimize()"
   ]
  },
  {
   "cell_type": "code",
   "execution_count": 20,
   "metadata": {},
   "outputs": [
    {
     "name": "stdout",
     "output_type": "stream",
     "text": [
      "[      fun: 45894.070681000456\n",
      " hess_inv: <1x1 LbfgsInvHessProduct with dtype=float64>\n",
      "      jac: array([0.00239975])\n",
      "  message: 'CONVERGENCE: REL_REDUCTION_OF_F_<=_FACTR*EPSMCH'\n",
      "     nfev: 8\n",
      "      nit: 5\n",
      "     njev: 8\n",
      "   status: 0\n",
      "  success: True\n",
      "        x: array([0.006875])]\n",
      "[45894.070681000456]\n",
      "[[0.006875003655224625]]\n"
     ]
    }
   ],
   "source": [
    "print(res)\n",
    "print(nllh)\n",
    "print(pars)"
   ]
  },
  {
   "cell_type": "code",
   "execution_count": 21,
   "metadata": {},
   "outputs": [
    {
     "name": "stdout",
     "output_type": "stream",
     "text": [
      "46038.743327207194\n",
      "17.01015262757734\n",
      "CPU times: user 6.1 ms, sys: 2.1 ms, total: 8.2 ms\n",
      "Wall time: 6.95 ms\n"
     ]
    }
   ],
   "source": [
    "%%time\n",
    "pars_['Signal_A'] = 1e-10\n",
    "bkg_nllh = -sig_llh_obj.get_logprob(pars_)\n",
    "print (bkg_nllh)\n",
    "sqrtTS = np.sqrt(2.*(bkg_nllh - nllh[0]))\n",
    "print (sqrtTS)"
   ]
  },
  {
   "cell_type": "code",
   "execution_count": 22,
   "metadata": {},
   "outputs": [],
   "source": [
    "import nitrates as nt"
   ]
  },
  {
   "cell_type": "code",
   "execution_count": null,
   "metadata": {},
   "outputs": [],
   "source": []
  },
  {
   "cell_type": "code",
   "execution_count": null,
   "metadata": {},
   "outputs": [],
   "source": []
  },
  {
   "cell_type": "code",
   "execution_count": null,
   "metadata": {},
   "outputs": [],
   "source": []
  }
 ],
 "metadata": {
  "kernelspec": {
   "display_name": "Python 3 (ipykernel)",
   "language": "python",
   "name": "python3"
  },
  "language_info": {
   "codemirror_mode": {
    "name": "ipython",
    "version": 3
   },
   "file_extension": ".py",
   "mimetype": "text/x-python",
   "name": "python",
   "nbconvert_exporter": "python",
   "pygments_lexer": "ipython3",
   "version": "3.8.13"
  }
 },
 "nbformat": 4,
 "nbformat_minor": 4
}
