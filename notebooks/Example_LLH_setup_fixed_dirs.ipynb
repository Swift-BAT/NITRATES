{
 "cells": [
  {
   "cell_type": "markdown",
   "metadata": {},
   "source": [
    "## **Handling All Imports**\n",
    "\n",
    "---\n",
    "\n",
    "All necessary, non-nitrates packages and modules are imported first. Afterwards, nitrates is imported along with many specific function imports from nitrates's modules."
   ]
  },
  {
   "cell_type": "code",
   "execution_count": 46,
   "metadata": {},
   "outputs": [],
   "source": [
    "import numpy as np\n",
    "from astropy.io import fits\n",
    "from astropy.table import Table, vstack\n",
    "from astropy.wcs import WCS\n",
    "import os\n",
    "from scipy import optimize, stats, interpolate\n",
    "from scipy.integrate import quad\n",
    "import argparse\n",
    "import time\n",
    "import multiprocessing as mp\n",
    "import matplotlib.pyplot as plt\n",
    "from matplotlib.colors import LogNorm\n",
    "from matplotlib import cm\n",
    "import sys\n",
    "import pandas as pd\n",
    "pd.options.display.max_columns = 250\n",
    "pd.options.display.max_rows = 250\n",
    "import healpy as hp\n",
    "from copy import copy, deepcopy\n",
    "# sys.path.append('BatML/')\n",
    "import logging, traceback\n",
    "import sys\n",
    "#logging.basicConfig(stream=sys.stdout, level=logging.DEBUG)"
   ]
  },
  {
   "cell_type": "code",
   "execution_count": 47,
   "metadata": {},
   "outputs": [
    {
     "name": "stdout",
     "output_type": "stream",
     "text": [
      "/Volumes/WD/Development/Programming/NITRATES_RESP_DIR_PIP/ /Volumes/WD/Development/Programming/NITRATES_RESP_DIR_PIP/ray_traces_detapp_npy\n"
     ]
    }
   ],
   "source": [
    "#%matplotlib inline\n",
    "import nitrates\n",
    "from nitrates.config import rt_dir, solid_angle_dpi_fname\n",
    "from nitrates.lib import get_conn, det2dpi, mask_detxy, get_info_tab, get_twinds_tab, ang_sep, theta_phi2imxy, \\\n",
    "    imxy2theta_phi, convert_imxy2radec, convert_radec2thetaphi, convert_radec2imxy\n",
    "from nitrates.response import RayTraces\n",
    "from nitrates.models import Cutoff_Plaw_Flux, Plaw_Flux, get_eflux_from_model, Source_Model_InOutFoV, \\\n",
    "    Bkg_Model_wFlatA, CompoundModel, Point_Source_Model_Binned_Rates, im_dist\n",
    "from nitrates.llh_analysis import parse_bkg_csv, LLH_webins, NLLH_ScipyMinimize_Wjacob\n",
    "print(nitrates.config.NITRATES_RESP_DIR, rt_dir)"
   ]
  },
  {
   "cell_type": "markdown",
   "metadata": {},
   "source": [
    "## **Establishing Working Directories and Connecting to Results Database**\n",
    "---\n",
    "\n",
    "The 'NITRATES_RESP_DIR' environment variable stores the path to the NITRATES_RESP_DIR_PIP directory. Set the path to where you archived your NITRATES response files directory."
   ]
  },
  {
   "cell_type": "code",
   "execution_count": 48,
   "metadata": {},
   "outputs": [],
   "source": [
    "os.environ['NITRATES_RESP_DIR'] = '/Volumes/WD/Development/Programming/NITRATES_RESP_DIR_PIP/'"
   ]
  },
  {
   "cell_type": "markdown",
   "metadata": {},
   "source": [
    "The F646018360 directory is created within the NITRATES_RESP_DIR directory. Within this directory, the files contained within csv_files.tar.gz are unpacked."
   ]
  },
  {
   "cell_type": "code",
   "execution_count": 49,
   "metadata": {},
   "outputs": [
    {
     "data": {
      "text/plain": [
       "0"
      ]
     },
     "execution_count": 49,
     "metadata": {},
     "output_type": "execute_result"
    }
   ],
   "source": [
    "os.system(f'cp -r ./F646018360 {nitrates.config.NITRATES_RESP_DIR}')\n",
    "os.system(f'tar -xzf csv_files.tar.gz -C {os.path.join(nitrates.config.NITRATES_RESP_DIR,\"F646018360/\")}')"
   ]
  },
  {
   "cell_type": "markdown",
   "metadata": {},
   "source": [
    "Set up the NITRATES_RESP_DIR directory as described in the https://github.com/Swift-BAT/NITRATES. **NITRATES_path** retrieves the path to the NITRATES_RESP_DIR directory from config.py.\n",
    "\n",
    "**word_dir** stores the path to the subdirectory NITRATES_RESP_DIR_PIP/F646018360 which contains many of the .fits, .db files used in this notebook."
   ]
  },
  {
   "cell_type": "code",
   "execution_count": 50,
   "metadata": {},
   "outputs": [],
   "source": [
    "NITRATES_path=nitrates.config.NITRATES_RESP_DIR\n",
    "work_dir = os.path.join(NITRATES_path, 'F646018360')"
   ]
  },
  {
   "cell_type": "markdown",
   "metadata": {},
   "source": [
    "The output of this notebook is stored within the file, 'results.db'. In order to work within the file, a database connection is opened to allow sqlite3 to work with it. **conn** is a connection object which represents the connection to this database. "
   ]
  },
  {
   "cell_type": "code",
   "execution_count": 51,
   "metadata": {},
   "outputs": [],
   "source": [
    "conn = get_conn(os.path.join(work_dir,'results.db'))"
   ]
  },
  {
   "cell_type": "markdown",
   "metadata": {},
   "source": [
    "Within the results.db database is the info tab. The info tab for this particular database stores the time start, time stop, and trigger time among other values.**info_tab** uses get_info_tab() with argument **conn** to retrieve the info tab."
   ]
  },
  {
   "cell_type": "code",
   "execution_count": 52,
   "metadata": {},
   "outputs": [],
   "source": [
    "info_tab = get_info_tab(conn)\n",
    "\n",
    "# To view the info_tab data, uncomment the following line\n",
    "#info_tab"
   ]
  },
  {
   "cell_type": "markdown",
   "metadata": {},
   "source": [
    "## **Setting Up Energy Bins**\n",
    "---\n",
    "\n",
    "The energy bins are defined through two numpy arrays. **ebins0** contains the lower bounds for each bin while **ebins1** contains the upper bounds for each bin. **ebins0** is set up with energies of 15.0keV, 24.0keV, 35.0keV, 48.0keV, and 64.0keV. "
   ]
  },
  {
   "cell_type": "code",
   "execution_count": 53,
   "metadata": {},
   "outputs": [],
   "source": [
    "ebins0 = np.array([15.0, 24.0, 35.0, 48.0, 64.0])"
   ]
  },
  {
   "cell_type": "markdown",
   "metadata": {},
   "source": [
    "It is appended by 5 additional points spaced out logarithmically between 84.0keV and 500.0keV. Since the detectors are only callibrated for energies up to 350keV, the last energy of 500.0keV is discarded."
   ]
  },
  {
   "cell_type": "code",
   "execution_count": 54,
   "metadata": {},
   "outputs": [],
   "source": [
    "ebins0 = np.append(ebins0, np.logspace(np.log10(84.0), np.log10(500.0), 5+1))[:-1]"
   ]
  },
  {
   "cell_type": "markdown",
   "metadata": {},
   "source": [
    "The entire array is rounded to one decimal place. The last energy is discarded again since 350.0 keV is our uppermost calibrated energy. This energy will be added at the end of **ebins1** instead."
   ]
  },
  {
   "cell_type": "code",
   "execution_count": 55,
   "metadata": {},
   "outputs": [],
   "source": [
    "ebins0 = np.round(ebins0, decimals=1)[:-1]"
   ]
  },
  {
   "cell_type": "markdown",
   "metadata": {},
   "source": [
    "**ebins1** is constructed from **ebins0** starting at its second element ending with an additional 350.0keV energy. "
   ]
  },
  {
   "cell_type": "code",
   "execution_count": 56,
   "metadata": {},
   "outputs": [
    {
     "name": "stdout",
     "output_type": "stream",
     "text": [
      "Nebins:  9\n",
      "ebins0:  [ 15.   24.   35.   48.   64.   84.  120.  171.5 245. ]\n",
      "ebins1:  [ 24.   35.   48.   64.   84.  120.  171.5 245.  350. ]\n"
     ]
    }
   ],
   "source": [
    "ebins1 = np.append(ebins0[1:], [350.0])\n",
    "nebins = len(ebins0)\n",
    "print(\"Nebins: \", nebins)\n",
    "print(\"ebins0: \", ebins0)\n",
    "print(\"ebins1: \", ebins1)"
   ]
  },
  {
   "cell_type": "markdown",
   "metadata": {},
   "source": [
    "## **Trigger Time and Setting Up Time Window**\n",
    "---\n",
    "\n",
    "The trigger time is the exact timestamp that an event of interest occurs. This timestamp is given as the time ellapsed since mission start on January 1, 2001 00:00:00 UTC. In this scenario, the event of interest is a potential GRB event.\n",
    "\n",
    "The trigger time is contained in the **info_tab** table under column 'trigtimeMET'."
   ]
  },
  {
   "cell_type": "code",
   "execution_count": 57,
   "metadata": {},
   "outputs": [
    {
     "name": "stdout",
     "output_type": "stream",
     "text": [
      "trigger_time:  646018383.1787\n"
     ]
    }
   ],
   "source": [
    "trigger_time = info_tab['trigtimeMET'][0]\n",
    "print('trigger_time: ', trigger_time)"
   ]
  },
  {
   "cell_type": "markdown",
   "metadata": {},
   "source": [
    "In order to capture the full evolution of the GRB, a window of time is constructed around **trigger_time**. The beginning of this window, **t_start**, occurs 1e3 seconds before **trigger_time** and the end of this window, **t_end**, occurs 1e3 seconds after **trigger_time**. \n",
    "\n",
    "(see section 7. Targeted GRB Search Pipeline)"
   ]
  },
  {
   "cell_type": "code",
   "execution_count": 58,
   "metadata": {},
   "outputs": [],
   "source": [
    "t_end = trigger_time + 1e3\n",
    "t_start = trigger_time - 1e3"
   ]
  },
  {
   "cell_type": "markdown",
   "metadata": {},
   "source": [
    "## **Reading in Event Data and Designating Good Time Intervals**\n",
    "---\n",
    "\n",
    "The event data is stored in the 'filter_evdata.fits' file within **work_dir**. **ev_data** reads in the event data stored within the file."
   ]
  },
  {
   "cell_type": "code",
   "execution_count": 59,
   "metadata": {},
   "outputs": [
    {
     "data": {
      "text/plain": [
       "FITS_rec([(6.46018333e+08,  1346, 0, 2685, 0.0000000e+00,  25, 134,  252,  25.2, 0),\n",
       "          (6.46018333e+08, 14333, 0, 2699, 5.1307690e-04, 234, 104,  229,  22.9, 0),\n",
       "          (6.46018333e+08, 18679, 0, 2420, 0.0000000e+00,  68,   0,  562,  56.2, 0),\n",
       "          ...,\n",
       "          (6.46018533e+08, 14227, 0, 1744, 5.9490534e-04, 247, 103, 2004, 200.4, 0),\n",
       "          (6.46018533e+08, 12353, 0, 2462, 8.8046494e-05, 223, 155,  621,  62.1, 0),\n",
       "          (6.46018533e+08, 23871, 0, 2287, 0.0000000e+00, 115,  40,  923,  92.3, 0)],\n",
       "         dtype=(numpy.record, [('TIME', '>f8'), ('DET_ID', '>i2'), ('EVENT_FLAGS', 'u1'), ('PHA', '>i2'), ('MASK_WEIGHT', '>f4'), ('DETX', '>i2'), ('DETY', '>i2'), ('PI', '>i2'), ('ENERGY', '>f8'), ('SLEW', '>i8')]))"
      ]
     },
     "execution_count": 59,
     "metadata": {},
     "output_type": "execute_result"
    }
   ],
   "source": [
    "evfname = os.path.join(work_dir,'filter_evdata.fits')\n",
    "ev_data = fits.open(evfname)[1].data\n",
    "\n",
    "# To view the ev_data data, uncomment the following line\n",
    "ev_data"
   ]
  },
  {
   "cell_type": "markdown",
   "metadata": {},
   "source": [
    "The GTI or \"Good Time Interval\" are intervals of time for which the instruments are calibrated and usable for analysis. This data is stored in the filter_evdata.fits file.\n",
    "\n",
    "**GTI_PNT** stores the good time intervals for which the craft is actively pointing at a fixed location in space. Similarly, **GTI_SLEW** stores the good time intervals for which the spacecraft is slewing to a new pointing orientation.\n",
    "\n",
    "(see section 7.1 Data Preparation)"
   ]
  },
  {
   "cell_type": "code",
   "execution_count": 60,
   "metadata": {},
   "outputs": [],
   "source": [
    "GTI_PNT = Table.read(evfname, hdu='GTI_POINTING')\n",
    "GTI_SLEW = Table.read(evfname, hdu='GTI_SLEW')"
   ]
  },
  {
   "cell_type": "markdown",
   "metadata": {},
   "source": [
    "## **Reading in Attitude Data**\n",
    "---\n",
    "\n",
    "attitude.fits stores data relating to where the instrument is pointed. **attfile** opens and stores the attitude data. "
   ]
  },
  {
   "cell_type": "code",
   "execution_count": 61,
   "metadata": {},
   "outputs": [
    {
     "data": {
      "text/plain": [
       "FITS_rec([(6.46000922e+08, [ 0.70613949, -0.58084469, -0.40184175,  0.05009672], [270.15215232, -30.61826799, 218.65690613], 1),\n",
       "          (6.46000923e+08, [ 0.70614058, -0.58084337, -0.40184182,  0.05009609], [270.15234872, -30.61838986, 218.65681458], 1),\n",
       "          (6.46000924e+08, [ 0.70616164, -0.58083113, -0.4018256 ,  0.05007119], [270.15598075, -30.62000045, 218.65231323], 1),\n",
       "          ...,\n",
       "          (6.46043530e+08, [-0.31367327, -0.53680109, -0.78323223,  0.00096847], [157.34551202,  29.49830241, 285.11172485], 1),\n",
       "          (6.46043535e+08, [-0.3136725 , -0.53680366, -0.78323078,  0.00097094], [157.34572342,  29.49833859, 285.11141968], 1),\n",
       "          (6.46043540e+08, [-0.31367247, -0.53680369, -0.78323077,  0.00097115], [157.34574487,  29.49834958, 285.11141968], 1)],\n",
       "         dtype=(numpy.record, [('TIME', '>f8'), ('QPARAM', '>f8', (4,)), ('POINTING', '>f8', (3,)), ('SOURCE', 'u1')]))"
      ]
     },
     "execution_count": 61,
     "metadata": {},
     "output_type": "execute_result"
    }
   ],
   "source": [
    "attfile = fits.open(os.path.join(work_dir,'attitude.fits'))[1].data\n",
    "\n",
    "# To view the attfile data, uncomment the following line\n",
    "attfile"
   ]
  },
  {
   "cell_type": "markdown",
   "metadata": {},
   "source": [
    "From **attfile**, **att_ind** finds the appropriate table index corresponding to the trigger time. With this index, **att_quat** retrieves the attitude data in quaternionic form. "
   ]
  },
  {
   "cell_type": "code",
   "execution_count": 62,
   "metadata": {},
   "outputs": [
    {
     "name": "stdout",
     "output_type": "stream",
     "text": [
      "attitude quaternion:  [-0.03597053  0.2345147  -0.64420835  0.72712074]\n"
     ]
    }
   ],
   "source": [
    "att_ind = np.argmin(np.abs(attfile['TIME'] - trigger_time))\n",
    "att_quat = attfile['QPARAM'][att_ind]\n",
    "print('attitude quaternion: ', att_quat)"
   ]
  },
  {
   "cell_type": "markdown",
   "metadata": {},
   "source": [
    "## **Managing Defective Detectors and Masked Detectors**\n",
    "---\n",
    "\n",
    "Not all detectors within the detector array may be functioning. When downloading new TTE data from https://swift.gsfc.nasa.gov/sdc/ql, files relating to new craft attitudes and enabled detectors are also downloaded. In this notebook, the 'detmask.fits' file stores information on which pixels in the detector array are currently functional. **dmask** stores the data from the 'detmask.fits' file.\n",
    "\n",
    "(See section 7.1 Data Preparation)"
   ]
  },
  {
   "cell_type": "code",
   "execution_count": 63,
   "metadata": {},
   "outputs": [],
   "source": [
    "dmask = fits.open(os.path.join(work_dir,'detmask.fits'))[0].data\n",
    "\n",
    "# To view the dmask data, uncomment the following line\n",
    "#dmask"
   ]
  },
  {
   "cell_type": "markdown",
   "metadata": {},
   "source": [
    "Within **dmask**, detectors labelled 0 are considered \"good\" and detectors labelled 1 are \"bad\". **ndets** is the total number of \"good\" detectors."
   ]
  },
  {
   "cell_type": "code",
   "execution_count": 64,
   "metadata": {},
   "outputs": [
    {
     "name": "stdout",
     "output_type": "stream",
     "text": [
      "Ndets:  14932\n"
     ]
    }
   ],
   "source": [
    "ndets = np.sum(dmask==0)\n",
    "print(\"Ndets: \", np.sum(dmask==0))"
   ]
  },
  {
   "cell_type": "markdown",
   "metadata": {},
   "source": [
    "The positions of the detectors within the detector array are indicated by their DETX and DETY coordinates. The function, mask_detxy(), gets rid of event data for which the detectors are masked (i.e. dmask value at (DETX,DETY) is 1)."
   ]
  },
  {
   "cell_type": "code",
   "execution_count": 65,
   "metadata": {
    "scrolled": true
   },
   "outputs": [],
   "source": [
    "mask_vals = mask_detxy(dmask, ev_data)"
   ]
  },
  {
   "cell_type": "markdown",
   "metadata": {},
   "source": [
    "**bl_dmask** is the matrix of **dmask** after evaluating, for each entry of **dmask**, that it is equal to 0."
   ]
  },
  {
   "cell_type": "code",
   "execution_count": 66,
   "metadata": {
    "scrolled": true
   },
   "outputs": [],
   "source": [
    "bl_dmask = (dmask==0.)\n",
    "\n",
    "# To view the bl_dmask data, uncomment the following line\n",
    "#bl_dmask"
   ]
  },
  {
   "cell_type": "markdown",
   "metadata": {},
   "source": [
    "## **Narrowing Search To Find GRB Event Data**\n",
    "\n",
    "---\n",
    "\n",
    "The event data is now screened for only the data that will be useful for the analysis. From **ev_data**, **bl_ev** retrieves the indices for which (in order), the event flags are 0 indicating no errors occured during the event, the energy sits between 14keV and 500keV, the mask values are 0, and the event takes place within the timeframe between **t_start** and **t_end**. "
   ]
  },
  {
   "cell_type": "code",
   "execution_count": 67,
   "metadata": {},
   "outputs": [
    {
     "name": "stdout",
     "output_type": "stream",
     "text": [
      "Nevents:  1367885\n"
     ]
    }
   ],
   "source": [
    "bl_ev = (ev_data['EVENT_FLAGS']<1)&\\\n",
    "        (ev_data['ENERGY']<=500.)&(ev_data['ENERGY']>=14.)&\\\n",
    "        (mask_vals==0.)&(ev_data['TIME']<=t_end)&\\\n",
    "        (ev_data['TIME']>=t_start)\n",
    "\n",
    "bl_ev\n",
    "print(\"Nevents: \",np.sum(bl_ev))"
   ]
  },
  {
   "cell_type": "markdown",
   "metadata": {},
   "source": [
    "**ev_data0** stores the event data corresponding with the indices **bl_ev**."
   ]
  },
  {
   "cell_type": "code",
   "execution_count": 68,
   "metadata": {},
   "outputs": [],
   "source": [
    "ev_data0 = ev_data[bl_ev]\n",
    "\n",
    "# To view the ev_data0 data, uncomment the following line\n",
    "#ev_data0"
   ]
  },
  {
   "cell_type": "markdown",
   "metadata": {},
   "source": [
    "## **Building Up a Simulated GRB Source**\n",
    "---\n",
    "\n",
    "A GRB is simulated at specified spatial coordinates with a cutoff power law flux model. We consider a GRB with right ascension and declination of 233.117, -26.213."
   ]
  },
  {
   "cell_type": "code",
   "execution_count": 69,
   "metadata": {},
   "outputs": [],
   "source": [
    "ra, dec = 233.117, -26.213 "
   ]
  },
  {
   "cell_type": "markdown",
   "metadata": {},
   "source": [
    "The **ra** and **dec** values can be converted into detector spherical coordinates (theta,phi) using the function, convert_radec2thetaphi(). The function uses the the quaternionic form of the attitude as one of its arguments.\n",
    "\n",
    "Likewise, **ra** and **dec** can be converted into tangential plane image coordinates using the convert_radec2imxy() function. "
   ]
  },
  {
   "cell_type": "code",
   "execution_count": 70,
   "metadata": {},
   "outputs": [
    {
     "name": "stdout",
     "output_type": "stream",
     "text": [
      "38.54132137017975 137.65241966813443\n",
      "-0.5887551341212707 -0.5366203642198198\n"
     ]
    }
   ],
   "source": [
    "theta, phi = convert_radec2thetaphi(ra, dec, att_quat)\n",
    "print(theta, phi)\n",
    "\n",
    "imx, imy = convert_radec2imxy(ra, dec, att_quat)\n",
    "print(imx, imy)"
   ]
  },
  {
   "cell_type": "markdown",
   "metadata": {},
   "source": [
    "A GRB can be described using a cutoff power law model. The equation for the cutoff power law is given by equation 16 (section 6.2 On-Time Signal Optimization):\n",
    "\n",
    "$$ f(E) = A(\\frac{E}{E_{piv}})^{\\gamma} exp[-\\frac{(2 - \\gamma)E}{E_{peak}}]$$\n",
    "\n",
    "where the pivot energy is given by $E_{piv} = 100\\textrm{keV} $, the normalization is given by $A$, the photon index is given by $\\gamma$, and the cutoff value is given by the value $E_{peak}$. \n",
    "\n",
    "**flux_params** is a dictionary of these three parameters with values 1.0, 0.5, and 1e2keV, respectively. Cutoff_Plaw_Flux() creates a cutoff powerlaw flux model with an energy cutoff of $E_0 = 100.0keV$."
   ]
  },
  {
   "cell_type": "code",
   "execution_count": 71,
   "metadata": {},
   "outputs": [],
   "source": [
    "flux_params = {'A':1.0, 'gamma':0.5, 'Epeak':1e2}\n",
    "flux_mod = Cutoff_Plaw_Flux(E0=100.0)"
   ]
  },
  {
   "cell_type": "markdown",
   "metadata": {},
   "source": [
    "## **Creating a RayTraces Object**\n",
    "---\n",
    "\n",
    "A RayTraces object is created using the path to the directory /ray_traces_detapp_npy. If **rt_dir** was not set up within config.py, replace its value with a string representing the path to /ray_traces_detapp_npy. "
   ]
  },
  {
   "cell_type": "code",
   "execution_count": 72,
   "metadata": {},
   "outputs": [
    {
     "name": "stdout",
     "output_type": "stream",
     "text": [
      "/Volumes/WD/Development/Programming/NITRATES_RESP_DIR_PIP/\n",
      "/Volumes/WD/Development/Programming/NITRATES_RESP_DIR_PIP/ray_traces_detapp_npy\n"
     ]
    }
   ],
   "source": [
    "print(nitrates.config.NITRATES_RESP_DIR)\n",
    "print(rt_dir)\n",
    "\n",
    "rt_obj = RayTraces(rt_dir)"
   ]
  },
  {
   "cell_type": "markdown",
   "metadata": {},
   "source": [
    "The ray tracing process is simulated for a source at the **imx** and **imy** coordinates. The result is an array of ray traces onto the detector plane of the illumination fractions, i.e. how much each detector \"sees\" this source. This array is stored into the variable, **rt**."
   ]
  },
  {
   "cell_type": "code",
   "execution_count": 73,
   "metadata": {},
   "outputs": [
    {
     "name": "stdout",
     "output_type": "stream",
     "text": [
      "(173, 286)\n"
     ]
    }
   ],
   "source": [
    "rt = rt_obj.get_intp_rt(imx, imy)\n",
    "print(np.shape(rt))\n",
    "\n",
    "# To view the rt data, uncomment the following line\n",
    "#rt"
   ]
  },
  {
   "cell_type": "markdown",
   "metadata": {},
   "source": [
    "## **Diffuse and Point Source Models**\n",
    "---\n",
    "\n",
    "The purpose of building a model is to eventually simulate the expected number of counts detected per detector and per energy bin as a function of our set of parameters. With these expected counts, they can be compared to the actual counts detected using the likelihood analysis. The models are split between the diffuse and point source models, which shall be described below.\n",
    "\n",
    "### **Diffuse Model**\n",
    "The diffuse model describes the expected distribution of counts $\\bar{\\lambda}^{diff}_{ij}$ for the ith detector and jth energy bin. The diffuse model is given by equation 8 (section 4.1.1. Diffuse Model):\n",
    "\n",
    "$$\\bar{\\lambda}_{ij}^{diff} = (\\Omega_i\\phi^{b}_{j} + r^{b}_{j})T$$\n",
    "\n",
    "where $\\Omega_i$ is the unblocked solid angle for detector i, $\\phi^{b}_{j}$ is the rate per detector solid angle, and $r^{b}_{j}$ is the rate per detector. \n",
    "\n",
    "\n",
    "### **Point Source Model**\n",
    "In the case of the point source model it is dependent on the source's positions, ($\\phi$, $\\theta$). For the expected distribution of counts $\\bar{\\lambda}^{PS}_{ij}$, thes model is described by equation 12 (section 4.1.2. Point Source Model):\n",
    "\n",
    "$$\\bar{\\lambda}_{ij}^{PS} = T\\sum_{l}DRM_{ijl}(\\theta,\\phi)f(E_{\\gamma} = E_{\\gamma,l})\\Delta E_{\\gamma, l}$$\n",
    "\n",
    "where T is the exposure, $DRM_{ijl}(\\theta, \\phi)$ is the detector response matrix for the source position $(\\theta, \\phi)$, $f(E_{\\gamma} = E_{\\gamma,l})$ is the photon spectrum in energy bin $E_{\\gamma, l}$, and $\\Delta E_{\\gamma, l}$ is the difference between consecutive photon energies $E_{\\gamma,l}$."
   ]
  },
  {
   "cell_type": "markdown",
   "metadata": {},
   "source": [
    "## **The Source_Model_InOutFoV Class**\n",
    "---\n",
    "In this section, the Source_Model_InOutFoV class is explored in detail. This class handles all of the forward modelling that is used for the likelihood analysis.\n",
    "\n",
    "A Source_Model_InOutFoV object can be used to generate Detector Plane Images. A Detector Plane Image shows the accumulation of photon counts in each detector across the detector array. For every combination of photon energy and sky location, there are response files that have been pre-calculated and stored across multiple directories. The response components for each line of sight are accessed by their theta,phi coordinates. The responses are then assembled to create a Detector Response Matrix (DRM) which is used to calculate expected photon counts for each detector and energy bin. \n",
    "\n",
    "### .__init__()\n",
    "---\n",
    "A Source_Model_InOutFoV object is constructed using the following __init__() definition:\n",
    "\n",
    "```\n",
    "def __init__(self, flux_model,\n",
    "                 ebins, bl_dmask, rt_obj,\n",
    "                 name='Signal', use_deriv=False,\n",
    "                 use_prior=False, resp_tab_dname=None,\n",
    "                 hp_flor_resp_dname=None, comp_flor_resp_dname=None):\n",
    "```\n",
    "\n",
    "\n",
    "The flux_model gets saved into a class variable, **self.fmodel**, while the energy bins get stored in **self.ebins**. The lower bounds and upper bounds for the energy bins are specifically stored into **self.ebins0** and **self.ebins1**. The number of energy bins gets stored in **nebins**\n",
    "\n",
    "\n",
    "```\n",
    "self.ebins = ebins\n",
    "self.ebins0 = ebins[0]\n",
    "self.ebins1 = ebins[1]\n",
    "nebins = len(self.ebins0)\n",
    "```\n",
    "\n",
    "The paths to the direct response directory (RESP_TAB_DNAME), florescence response directory (HP_FLOR_RESP_DNAME), and the compton-plus-florescence response directory (COMP_FLOR_RESP_DNAME) are stored in class variables **.resp_dname**, **.flor_resp_dname**, and **.comp_flor_resp_dname**, respectively.\n",
    "\n",
    "\n",
    "For the purposes of error propogation, the errors for florescence, compton and florescence, non-florescence, coded and non-coded responses are the following:\n",
    "\n",
    "```\n",
    "self.flor_err = 0.2\n",
    "self.comp_flor_err = 0.16\n",
    "self.non_flor_err = 0.12\n",
    "self.non_coded_err = 0.1\n",
    "self.coded_err = 0.05\n",
    "```\n",
    "\n",
    "The RayTraces object that was passed as an argument gets stored into a class variable, **self.rt_obj**.\n",
    "\n",
    "The following variables are called upon when running the function **.set_theta_phi()**. The values for **._resp_phi** and **._resp_theta** are set to NaN. The update value, **._resp_update**, is set up as 5.0 degrees. Similarly for the transmission files, the values for **._trans_phi** and **._trans_theta** are set to NaN while the **.trans_update** value is set to 5e-3 degrees. "
   ]
  },
  {
   "cell_type": "markdown",
   "metadata": {},
   "source": [
    "A signal model is created using the flux model, energy bins, usable detectors, and RayTraces object that were created above."
   ]
  },
  {
   "cell_type": "code",
   "execution_count": 74,
   "metadata": {},
   "outputs": [
    {
     "name": "stdout",
     "output_type": "stream",
     "text": [
      "CPU times: user 701 µs, sys: 386 µs, total: 1.09 ms\n",
      "Wall time: 983 µs\n"
     ]
    }
   ],
   "source": [
    "%%time\n",
    "sig_mod = Source_Model_InOutFoV(flux_mod, [ebins0,ebins1], bl_dmask,\\\n",
    "                                rt_obj, use_deriv=True)"
   ]
  },
  {
   "cell_type": "markdown",
   "metadata": {},
   "source": [
    "### .get_batxys()\n",
    "\n",
    "---\n",
    "\n",
    "This function takes x and y indices from the detector coordinates given through **self.bl_dmask** and retrieves the corresponding physical coordinates within the BAT instrument coordinate system. The function makes use of the detxy2batxy(xinds, yinds) function to retrieve the coordinates. The resulting x and y coordinates are stored as class variables **.batxs** and **.batys**."
   ]
  },
  {
   "cell_type": "code",
   "execution_count": 75,
   "metadata": {},
   "outputs": [],
   "source": [
    "sig_mod.get_batxys()\n",
    "\n",
    "# To view the .batxs and .batys, uncomment the following lines\n",
    "#print(sig_mod.batxs)\n",
    "#print(sig_mod.batys)"
   ]
  },
  {
   "cell_type": "markdown",
   "metadata": {},
   "source": [
    "### .set_theta_phi(theta, phi)\n",
    "\n",
    "---\n",
    "\n",
    "This function takes in arguments for theta and phi and updates the class variables, **.theta** and **.phi**, with the new values.\n",
    "\n",
    "These values are compared to **.resp_theta** and **.resp_phi**, which hold the values for the theta and phi values that were last used to query the response files. If the angle separation between (**.theta**, **.phi**) and (**.resp_theta**, **.resp_phi**) is larger than **._resp_update**, then the new theta and phi values are used to query new response files. \n",
    "\n",
    "If the angle separation is less than **._resp_update**, we must also check if the angle separation is larger than **._trans_theta**. If so, then the transmission values must also be updated as they are also queried by theta and phi values."
   ]
  },
  {
   "cell_type": "code",
   "execution_count": 76,
   "metadata": {},
   "outputs": [
    {
     "name": "stderr",
     "output_type": "stream",
     "text": [
      "WARNING: hdu= was not specified but multiple tables are present, reading in first available table (hdu=1) [astropy.io.fits.connect]\n",
      "WARNING:astropy:hdu= was not specified but multiple tables are present, reading in first available table (hdu=1)\n"
     ]
    },
    {
     "name": "stdout",
     "output_type": "stream",
     "text": [
      "(0.0, 30.48, -14.117)\n",
      "(0.0, 30.48, -14.117)\n"
     ]
    },
    {
     "name": "stderr",
     "output_type": "stream",
     "text": [
      "/Volumes/WD/Development/Programming/NITRATES_RESP_DIR_PIP/swift-bat/lib/python3.9/site-packages/nitrates/response/response.py:1499: RuntimeWarning: invalid value encountered in divide\n",
      "  self.E_A0s = (self.orig_photonEs[self.Einds1] - self.photonEs) /\\\n"
     ]
    },
    {
     "name": "stdout",
     "output_type": "stream",
     "text": [
      "(36.0, 45.0)\n",
      "2.652419668134428\n",
      "42.34758033186557\n",
      "max rt: 0.8604\n",
      "initing ResponseDPI, with fname\n",
      "/Volumes/WD/Development/Programming/NITRATES_RESP_DIR_PIP/resp_tabs_ebins/drm_theta_36.0_phi_30.0_.fits\n",
      "initing ResponseDPI, with fname\n",
      "/Volumes/WD/Development/Programming/NITRATES_RESP_DIR_PIP/resp_tabs_ebins/drm_theta_36.0_phi_45.0_.fits\n",
      "initing ResponseDPI, with fname\n",
      "/Volumes/WD/Development/Programming/NITRATES_RESP_DIR_PIP/resp_tabs_ebins/drm_theta_45.0_phi_30.0_.fits\n",
      "initing ResponseDPI, with fname\n",
      "/Volumes/WD/Development/Programming/NITRATES_RESP_DIR_PIP/resp_tabs_ebins/drm_theta_45.0_phi_45.0_.fits\n"
     ]
    }
   ],
   "source": [
    "#The theta and phi values prior to running set_theta_phi()\n",
    "sig_mod.set_theta_phi(theta, phi)"
   ]
  },
  {
   "cell_type": "markdown",
   "metadata": {},
   "source": [
    "### .set_flux_params(flux_params)\n",
    "---\n",
    "**.set_flux_params(flux_params)** takes a list of parameters, flux_params, as an argument and updates the class variable, **.flux_param**, with the new values. The following normed dpis are also set: **.normed_photon_fluxes**, **.normed_comp_flor_rate_dpis**, **.normed_photoe_rate_dpis**, **.normed_rate_dpis**, and lastly,  **.normed_err_rate_dpis**. The normed dpis are useful for varying parameters such as the amplitude, A, without modifying the underlying dpis.\n",
    "\n",
    "\n",
    "\n",
    "\n",
    "### .get_rate_dpis(params)\n",
    "---\n",
    "The **.get_rate_dpis(params)** function returns the dpis corresponding to the dictionary of parameters given. These parameters contain values for theta, phi, and the normalization constant, A. \n",
    "\n",
    "For new angles, if the angle separation is larger than **_trans_update** , then .set_theta_phi() and .set_flux_params() are run again for the new parameters. Finally, the rate_dpis are calculated after multiplying **.normed_rate_dpis** by the normalization constant, A, and returned.\n"
   ]
  },
  {
   "cell_type": "code",
   "execution_count": 77,
   "metadata": {},
   "outputs": [
    {
     "data": {
      "text/plain": [
       "<nitrates.models.models.Source_Model_InOutFoV at 0x29b0ab0a0>"
      ]
     },
     "execution_count": 77,
     "metadata": {},
     "output_type": "execute_result"
    }
   ],
   "source": [
    "sig_mod"
   ]
  },
  {
   "cell_type": "markdown",
   "metadata": {},
   "source": [
    "## **Background Model**\n",
    "---\n",
    "\n",
    "The background model encompasses any of the non-GRB sources that show up in the image. This can include contributions from the cosmic X-rays/gamma-rays or any number of sources that are known to be sources of gamma rays. The background model consists mainly of a diffuse model due to the cosmic X-rays/gamma-rays combined with point source models for each of the known sources within the field of view.\n",
    "\n",
    "(see section 6.1. Off-Time Background)\n",
    "\n",
    "In general, all bright point sources are stored in https://github.com/Swift-BAT/NITRATES/blob/main/bright_src_cat.fits. For this notebook, the estimation of the background for the 4 sources relevant for this field of view is given in bkg_estimation.csv. \n",
    "\n",
    "The variable, **solid_ang_dpi** stores the dpi relating to the solid angle seen by each detector. \n"
   ]
  },
  {
   "cell_type": "code",
   "execution_count": 78,
   "metadata": {},
   "outputs": [],
   "source": [
    "bkg_fname = os.path.join(work_dir,'bkg_estimation.csv')\n",
    "solid_ang_dpi = np.load(solid_angle_dpi_fname)"
   ]
  },
  {
   "cell_type": "markdown",
   "metadata": {},
   "source": [
    "With bkg_estimation.csv, the function parse_bkg_csv() parses through the file in order to create point source models for each of the background sources. The function returns the following objects:\n",
    "\n",
    "**bkg_df** - The output after running the pandas function .read_csv() on bkg_fname\n",
    "\n",
    "**bkg_name** - Name for the background that will be used for background-related parameters.\n",
    "\n",
    "**PSnames** - List of strings of the astronomical names of any sources of cosmic/x-rays rays found within the background \n",
    "\n",
    "**bkg_mod** - The background model returned by the function parse_bck_csv()\n",
    "\n",
    "**ps_mods** - List of corresponding point source models for each of the astronomical objects listed in **PSnames**"
   ]
  },
  {
   "cell_type": "code",
   "execution_count": 79,
   "metadata": {},
   "outputs": [
    {
     "name": "stdout",
     "output_type": "stream",
     "text": [
      "['4U 1700-377', 'GRO J1655-40', 'GX 339-4', 'Sco X-1']\n"
     ]
    }
   ],
   "source": [
    "bkg_df, bkg_name, PSnames, bkg_mod, ps_mods = parse_bkg_csv(bkg_fname, solid_ang_dpi,\\\n",
    "                    ebins0, ebins1, bl_dmask, rt_dir)"
   ]
  },
  {
   "cell_type": "markdown",
   "metadata": {},
   "source": [
    "The background model **bkg_mod** is added to a list of background models **bkg_mod_list**. If there are any point source models in **ps_mods** they are added to **bkg_mod_list** and has_deriv is set to False for each of them. With all the models compiled into a single list, the background model is redefined as a compound model combining all of the point source models with the original **bkg_mod**.\n",
    "\n",
    "Later on, when a minimizer object is created, it will ask models for the Jacobian of the log likelihood function with respect to the model parameters. Since the parameters are fixed, there are no such derivatives to retrieve so .has_deriv is set to False."
   ]
  },
  {
   "cell_type": "code",
   "execution_count": 80,
   "metadata": {},
   "outputs": [],
   "source": [
    "bkg_mod.has_deriv = False\n",
    "bkg_mod_list = [bkg_mod]\n",
    "Nsrcs = len(ps_mods)\n",
    "if Nsrcs > 0:\n",
    "    bkg_mod_list += ps_mods\n",
    "    for ps_mod in ps_mods:\n",
    "        ps_mod.has_deriv = False\n",
    "    bkg_mod = CompoundModel(bkg_mod_list)"
   ]
  },
  {
   "cell_type": "markdown",
   "metadata": {},
   "source": [
    "The trigger time is used again to retrieve a dictionary of parameters at the trigger time index. **bkg_row** refers to this dictionary of parameters. The values of the parameters of the background model are retrieved from **bkg_row** and stored as another dictionary, **bkg_params**. Below is a description of the output of calling **bkg_params**.\n",
    "\n",
    "The first set of parameters have names ending with '_bkg_rate_0', '_bkg_rate_1', etc. These rates refer to contributions to the background model from diffuse sources measured in counts per second. The number index in the parameter name refers to the corresponding energy bin for which the rate is measured (e.g the parameter '_bkg_rate_0' is the counts/s in energy bin 0 attributable to diffuse sources). \n",
    "\n",
    "Next are the parameter names ending with '_flat_0', '_flat_1', etc. These parameters refer to the rate per detector parameters in the diffuse model, $r^b_j$. Their values are the fraction of the above background rate taht is the result of the rate, $r^b_j$. (e.g. '_flat_0' is the fraction of the '_bkg_rate_0' attributable to the rate per detector $r^b_0$).\n",
    "\n",
    "For each of the point sources within the background, the parameters corresponding to their imx and imy coordinates are listed along with the unmasked rates measured per energy bin."
   ]
  },
  {
   "cell_type": "code",
   "execution_count": 81,
   "metadata": {},
   "outputs": [
    {
     "data": {
      "text/plain": [
       "{'Background_bkg_rate_0': 0.0913703220701183,\n",
       " 'Background_bkg_rate_1': 0.0661578002239374,\n",
       " 'Background_bkg_rate_2': 0.0400898569026105,\n",
       " 'Background_bkg_rate_3': 0.0394919934207801,\n",
       " 'Background_bkg_rate_4': 0.0346780266835281,\n",
       " 'Background_bkg_rate_5': 0.0351076584048365,\n",
       " 'Background_bkg_rate_6': 0.033602492003955,\n",
       " 'Background_bkg_rate_7': 0.0248610826847874,\n",
       " 'Background_bkg_rate_8': 0.0176399476145076,\n",
       " 'Background_flat_0': 0.0,\n",
       " 'Background_flat_1': 0.0,\n",
       " 'Background_flat_2': 0.1859632649428977,\n",
       " 'Background_flat_3': 0.0766344244533236,\n",
       " 'Background_flat_4': 0.3020855890115875,\n",
       " 'Background_flat_5': 0.7611510180823338,\n",
       " 'Background_flat_6': 0.8091430254293075,\n",
       " 'Background_flat_7': 1.0,\n",
       " 'Background_flat_8': 1.0,\n",
       " '4U 1700-377_imx': -0.0981485305770971,\n",
       " '4U 1700-377_imy': -0.4742076074486664,\n",
       " '4U 1700-377_rate_0': 0.0124901359218975,\n",
       " '4U 1700-377_rate_1': 0.0072425264886238,\n",
       " '4U 1700-377_rate_2': 0.0045295645864628,\n",
       " '4U 1700-377_rate_3': 0.0016876913514016,\n",
       " '4U 1700-377_rate_4': 0.0013255091059552,\n",
       " '4U 1700-377_rate_5': 0.0012956105576278,\n",
       " '4U 1700-377_rate_6': 0.0005834459169539,\n",
       " '4U 1700-377_rate_7': 5e-08,\n",
       " '4U 1700-377_rate_8': 0.0001401320031663,\n",
       " 'GRO J1655-40_imx': -0.1134159678653529,\n",
       " 'GRO J1655-40_imy': -0.5359750413588411,\n",
       " 'GRO J1655-40_rate_0': 0.0052771851384718,\n",
       " 'GRO J1655-40_rate_1': 0.0022036634261929,\n",
       " 'GRO J1655-40_rate_2': 0.0003149730275822,\n",
       " 'GRO J1655-40_rate_3': 0.0017640644311276,\n",
       " 'GRO J1655-40_rate_4': 5e-08,\n",
       " 'GRO J1655-40_rate_5': 9.114980149845126e-05,\n",
       " 'GRO J1655-40_rate_6': 3.88633504826533e-05,\n",
       " 'GRO J1655-40_rate_7': 5e-08,\n",
       " 'GRO J1655-40_rate_8': 0.0007082358100819,\n",
       " 'GX 339-4_imx': 0.0087293008614054,\n",
       " 'GX 339-4_imy': -0.6947927093434689,\n",
       " 'GX 339-4_rate_0': 0.0037893354510156,\n",
       " 'GX 339-4_rate_1': 0.0032148894308596,\n",
       " 'GX 339-4_rate_2': 0.0017605414459212,\n",
       " 'GX 339-4_rate_3': 0.0015331679372228,\n",
       " 'GX 339-4_rate_4': 0.0015777295548874,\n",
       " 'GX 339-4_rate_5': 0.0014172765864478,\n",
       " 'GX 339-4_rate_6': 0.0008599988841135,\n",
       " 'GX 339-4_rate_7': 0.0013329459515836,\n",
       " 'GX 339-4_rate_8': 0.0005777085477427,\n",
       " 'Sco X-1_imx': -0.4801793393603647,\n",
       " 'Sco X-1_imy': -0.2001566229807942,\n",
       " 'Sco X-1_rate_0': 0.0497219623187451,\n",
       " 'Sco X-1_rate_1': 0.0059213556150606,\n",
       " 'Sco X-1_rate_2': 5e-08,\n",
       " 'Sco X-1_rate_3': 0.000359259928782,\n",
       " 'Sco X-1_rate_4': 0.0004049393144718,\n",
       " 'Sco X-1_rate_5': 5e-08,\n",
       " 'Sco X-1_rate_6': 5e-08,\n",
       " 'Sco X-1_rate_7': 5e-08,\n",
       " 'Sco X-1_rate_8': 6.897789976904059e-05}"
      ]
     },
     "execution_count": 81,
     "metadata": {},
     "output_type": "execute_result"
    }
   ],
   "source": [
    "tmid = trigger_time\n",
    "bkg_row = bkg_df.iloc[np.argmin(np.abs(tmid - bkg_df['time']))]\n",
    "bkg_params = {pname:bkg_row[pname] for pname in\\\n",
    "            bkg_mod.param_names}\n",
    "bkg_name = bkg_mod.name\n",
    "bkg_params"
   ]
  },
  {
   "cell_type": "markdown",
   "metadata": {},
   "source": [
    "The parameters in **bkg_params** are aggregated into a dictionary **pars_** such that the background rates (of the form '_bkg_rate_0') of the background model are combined with rates due to each of the source models. The naming convention combines \"Background\" plus any of the known sources followed by **bkg_name** and appended by the name of the parameter. For example, for the parameter \"_bkg_rate_0\", it is prepended by the name \"Background+4U 1700-377+GRO J1655-40+GX 339-4+Sco X-1_Background\".\n",
    "\n",
    "The **pars_** dictionary additionally stores the **theta**, **phi**, and **flux_params** parameters."
   ]
  },
  {
   "cell_type": "code",
   "execution_count": 82,
   "metadata": {},
   "outputs": [
    {
     "data": {
      "text/plain": [
       "{'Signal_theta': 38.54132137017975,\n",
       " 'Signal_phi': 137.65241966813443,\n",
       " 'Background+4U 1700-377+GRO J1655-40+GX 339-4+Sco X-1_Background_bkg_rate_0': 0.0913703220701183,\n",
       " 'Background+4U 1700-377+GRO J1655-40+GX 339-4+Sco X-1_Background_bkg_rate_1': 0.0661578002239374,\n",
       " 'Background+4U 1700-377+GRO J1655-40+GX 339-4+Sco X-1_Background_bkg_rate_2': 0.0400898569026105,\n",
       " 'Background+4U 1700-377+GRO J1655-40+GX 339-4+Sco X-1_Background_bkg_rate_3': 0.0394919934207801,\n",
       " 'Background+4U 1700-377+GRO J1655-40+GX 339-4+Sco X-1_Background_bkg_rate_4': 0.0346780266835281,\n",
       " 'Background+4U 1700-377+GRO J1655-40+GX 339-4+Sco X-1_Background_bkg_rate_5': 0.0351076584048365,\n",
       " 'Background+4U 1700-377+GRO J1655-40+GX 339-4+Sco X-1_Background_bkg_rate_6': 0.033602492003955,\n",
       " 'Background+4U 1700-377+GRO J1655-40+GX 339-4+Sco X-1_Background_bkg_rate_7': 0.0248610826847874,\n",
       " 'Background+4U 1700-377+GRO J1655-40+GX 339-4+Sco X-1_Background_bkg_rate_8': 0.0176399476145076,\n",
       " 'Background+4U 1700-377+GRO J1655-40+GX 339-4+Sco X-1_Background_flat_0': 0.0,\n",
       " 'Background+4U 1700-377+GRO J1655-40+GX 339-4+Sco X-1_Background_flat_1': 0.0,\n",
       " 'Background+4U 1700-377+GRO J1655-40+GX 339-4+Sco X-1_Background_flat_2': 0.1859632649428977,\n",
       " 'Background+4U 1700-377+GRO J1655-40+GX 339-4+Sco X-1_Background_flat_3': 0.0766344244533236,\n",
       " 'Background+4U 1700-377+GRO J1655-40+GX 339-4+Sco X-1_Background_flat_4': 0.3020855890115875,\n",
       " 'Background+4U 1700-377+GRO J1655-40+GX 339-4+Sco X-1_Background_flat_5': 0.7611510180823338,\n",
       " 'Background+4U 1700-377+GRO J1655-40+GX 339-4+Sco X-1_Background_flat_6': 0.8091430254293075,\n",
       " 'Background+4U 1700-377+GRO J1655-40+GX 339-4+Sco X-1_Background_flat_7': 1.0,\n",
       " 'Background+4U 1700-377+GRO J1655-40+GX 339-4+Sco X-1_Background_flat_8': 1.0,\n",
       " 'Background+4U 1700-377+GRO J1655-40+GX 339-4+Sco X-1_4U 1700-377_imx': -0.0981485305770971,\n",
       " 'Background+4U 1700-377+GRO J1655-40+GX 339-4+Sco X-1_4U 1700-377_imy': -0.4742076074486664,\n",
       " 'Background+4U 1700-377+GRO J1655-40+GX 339-4+Sco X-1_4U 1700-377_rate_0': 0.0124901359218975,\n",
       " 'Background+4U 1700-377+GRO J1655-40+GX 339-4+Sco X-1_4U 1700-377_rate_1': 0.0072425264886238,\n",
       " 'Background+4U 1700-377+GRO J1655-40+GX 339-4+Sco X-1_4U 1700-377_rate_2': 0.0045295645864628,\n",
       " 'Background+4U 1700-377+GRO J1655-40+GX 339-4+Sco X-1_4U 1700-377_rate_3': 0.0016876913514016,\n",
       " 'Background+4U 1700-377+GRO J1655-40+GX 339-4+Sco X-1_4U 1700-377_rate_4': 0.0013255091059552,\n",
       " 'Background+4U 1700-377+GRO J1655-40+GX 339-4+Sco X-1_4U 1700-377_rate_5': 0.0012956105576278,\n",
       " 'Background+4U 1700-377+GRO J1655-40+GX 339-4+Sco X-1_4U 1700-377_rate_6': 0.0005834459169539,\n",
       " 'Background+4U 1700-377+GRO J1655-40+GX 339-4+Sco X-1_4U 1700-377_rate_7': 5e-08,\n",
       " 'Background+4U 1700-377+GRO J1655-40+GX 339-4+Sco X-1_4U 1700-377_rate_8': 0.0001401320031663,\n",
       " 'Background+4U 1700-377+GRO J1655-40+GX 339-4+Sco X-1_GRO J1655-40_imx': -0.1134159678653529,\n",
       " 'Background+4U 1700-377+GRO J1655-40+GX 339-4+Sco X-1_GRO J1655-40_imy': -0.5359750413588411,\n",
       " 'Background+4U 1700-377+GRO J1655-40+GX 339-4+Sco X-1_GRO J1655-40_rate_0': 0.0052771851384718,\n",
       " 'Background+4U 1700-377+GRO J1655-40+GX 339-4+Sco X-1_GRO J1655-40_rate_1': 0.0022036634261929,\n",
       " 'Background+4U 1700-377+GRO J1655-40+GX 339-4+Sco X-1_GRO J1655-40_rate_2': 0.0003149730275822,\n",
       " 'Background+4U 1700-377+GRO J1655-40+GX 339-4+Sco X-1_GRO J1655-40_rate_3': 0.0017640644311276,\n",
       " 'Background+4U 1700-377+GRO J1655-40+GX 339-4+Sco X-1_GRO J1655-40_rate_4': 5e-08,\n",
       " 'Background+4U 1700-377+GRO J1655-40+GX 339-4+Sco X-1_GRO J1655-40_rate_5': 9.114980149845126e-05,\n",
       " 'Background+4U 1700-377+GRO J1655-40+GX 339-4+Sco X-1_GRO J1655-40_rate_6': 3.88633504826533e-05,\n",
       " 'Background+4U 1700-377+GRO J1655-40+GX 339-4+Sco X-1_GRO J1655-40_rate_7': 5e-08,\n",
       " 'Background+4U 1700-377+GRO J1655-40+GX 339-4+Sco X-1_GRO J1655-40_rate_8': 0.0007082358100819,\n",
       " 'Background+4U 1700-377+GRO J1655-40+GX 339-4+Sco X-1_GX 339-4_imx': 0.0087293008614054,\n",
       " 'Background+4U 1700-377+GRO J1655-40+GX 339-4+Sco X-1_GX 339-4_imy': -0.6947927093434689,\n",
       " 'Background+4U 1700-377+GRO J1655-40+GX 339-4+Sco X-1_GX 339-4_rate_0': 0.0037893354510156,\n",
       " 'Background+4U 1700-377+GRO J1655-40+GX 339-4+Sco X-1_GX 339-4_rate_1': 0.0032148894308596,\n",
       " 'Background+4U 1700-377+GRO J1655-40+GX 339-4+Sco X-1_GX 339-4_rate_2': 0.0017605414459212,\n",
       " 'Background+4U 1700-377+GRO J1655-40+GX 339-4+Sco X-1_GX 339-4_rate_3': 0.0015331679372228,\n",
       " 'Background+4U 1700-377+GRO J1655-40+GX 339-4+Sco X-1_GX 339-4_rate_4': 0.0015777295548874,\n",
       " 'Background+4U 1700-377+GRO J1655-40+GX 339-4+Sco X-1_GX 339-4_rate_5': 0.0014172765864478,\n",
       " 'Background+4U 1700-377+GRO J1655-40+GX 339-4+Sco X-1_GX 339-4_rate_6': 0.0008599988841135,\n",
       " 'Background+4U 1700-377+GRO J1655-40+GX 339-4+Sco X-1_GX 339-4_rate_7': 0.0013329459515836,\n",
       " 'Background+4U 1700-377+GRO J1655-40+GX 339-4+Sco X-1_GX 339-4_rate_8': 0.0005777085477427,\n",
       " 'Background+4U 1700-377+GRO J1655-40+GX 339-4+Sco X-1_Sco X-1_imx': -0.4801793393603647,\n",
       " 'Background+4U 1700-377+GRO J1655-40+GX 339-4+Sco X-1_Sco X-1_imy': -0.2001566229807942,\n",
       " 'Background+4U 1700-377+GRO J1655-40+GX 339-4+Sco X-1_Sco X-1_rate_0': 0.0497219623187451,\n",
       " 'Background+4U 1700-377+GRO J1655-40+GX 339-4+Sco X-1_Sco X-1_rate_1': 0.0059213556150606,\n",
       " 'Background+4U 1700-377+GRO J1655-40+GX 339-4+Sco X-1_Sco X-1_rate_2': 5e-08,\n",
       " 'Background+4U 1700-377+GRO J1655-40+GX 339-4+Sco X-1_Sco X-1_rate_3': 0.000359259928782,\n",
       " 'Background+4U 1700-377+GRO J1655-40+GX 339-4+Sco X-1_Sco X-1_rate_4': 0.0004049393144718,\n",
       " 'Background+4U 1700-377+GRO J1655-40+GX 339-4+Sco X-1_Sco X-1_rate_5': 5e-08,\n",
       " 'Background+4U 1700-377+GRO J1655-40+GX 339-4+Sco X-1_Sco X-1_rate_6': 5e-08,\n",
       " 'Background+4U 1700-377+GRO J1655-40+GX 339-4+Sco X-1_Sco X-1_rate_7': 5e-08,\n",
       " 'Background+4U 1700-377+GRO J1655-40+GX 339-4+Sco X-1_Sco X-1_rate_8': 6.897789976904059e-05,\n",
       " 'Signal_A': 1.0,\n",
       " 'Signal_gamma': 0.5,\n",
       " 'Signal_Epeak': 100.0}"
      ]
     },
     "execution_count": 82,
     "metadata": {},
     "output_type": "execute_result"
    }
   ],
   "source": [
    "pars_ = {}\n",
    "pars_['Signal_theta'] = theta\n",
    "pars_['Signal_phi'] = phi\n",
    "for pname,val in list(bkg_params.items()):\n",
    "    pars_[bkg_name+'_'+pname] = val\n",
    "for pname,val in list(flux_params.items()):\n",
    "    pars_['Signal_'+pname] = val\n",
    "pars_"
   ]
  },
  {
   "cell_type": "markdown",
   "metadata": {},
   "source": [
    "With the background and signal models assembled, a singular compound model can be created which combines the two models into one. **comp_mod** is a CompoundModel class object created using the **bkg_mod** and **sig_mod** variables."
   ]
  },
  {
   "cell_type": "code",
   "execution_count": 83,
   "metadata": {},
   "outputs": [],
   "source": [
    "comp_mod = CompoundModel([bkg_mod, sig_mod])"
   ]
  },
  {
   "cell_type": "markdown",
   "metadata": {},
   "source": [
    "## **The Likelihood and Log-Likelihood**\n",
    "---\n",
    "\n",
    "Given a model $M(\\Theta)$ with parameters $\\Theta$, the number of counts $N_{ij}$, and expected counts $\\theta_{ij}$, the likelihood for the ith detector and jth energy bin can be given by the Poisson likelihood, equation 4:\n",
    "\n",
    "$$l_{ij}(M(\\Theta)|N_{ij}) = Pois(N_{ij}; \\lambda_{ij}) = \\frac{(\\lambda_{ij})^{N_{ij}}e^{-\\lambda_{ij}}}{N_{ij}!}$$ \n",
    "\n",
    "Each of the count expectations $\\lambda_{ij}$ will have an associated error given by a probability density function (PDF) in the form of a normal distribution. Given a Gaussian error $\\sigma_{ij}$ and mean count expectation $\\bar{\\lambda}_{ij}$, the error PDF is given by equation 5:\n",
    "\n",
    "$$P(\\lambda_{ij}|M(\\Theta)) = \\frac{1}{\\sqrt{2\\pi\\sigma^2_{ij}}}exp\\left[-\\frac{(\\lambda_{ij}-\\bar{\\lambda}_{ij})^2}{2\\sigma^2_{ij}}\\right]$$\n",
    "\n",
    "To account for this error, the likelihood function is integrated over the error PDF on $\\lambda_{ij}$, shown in equation 6:\n",
    "\n",
    "$$l_{ij}(M(\\lambda_{ij}\\mid M(\\Theta))) = \\int_{}{} Pois(N_{ij}; \\lambda_{ij}) \\mathcal{N}(\\lambda_{ij}; \\bar{\\lambda}_{ij}, \\sigma_{ij})d\\lambda_{ij}$$\n",
    "\n",
    "With this expression for the likelihood, the log-likelihood (LLH) is given by the equation 7:\n",
    "\n",
    "$$LLH(M(\\Theta)\\mid N) = \\sum_{ij}log\\left[l_{ij}(M(\\Theta)\\mid N_{ij})\\right]$$\n",
    "\n",
    "(see section 4. A Likelihood Framework)"
   ]
  },
  {
   "cell_type": "markdown",
   "metadata": {},
   "source": [
    "## **Calculating and Minimizing Log Likelihood**\n",
    "---\n",
    "In the minimization process, the parameters that minimize this statistical description of the observed data are presumed to be the true physical parameters.\n",
    "\n",
    "The calculation of the log likelihood is done through the LLH_webins class object, **sig_llh_obj**, which takes in the event data (**ev_data0**), the lower and upper bounds of the energy bins (**ebins0** and **ebins1**), and the list of usable detectors (**bl_dmask**). **sig_llh_obj** calls .set_model() with argument **comp_mod** in order to utilize the compound model in the likelihood calculation. \n",
    "\n",
    "Note that when initializing **sig_llh_obj**, the argument has_err is set to True in order to utilize the error values set up in the compound model."
   ]
  },
  {
   "cell_type": "code",
   "execution_count": 84,
   "metadata": {},
   "outputs": [],
   "source": [
    "sig_llh_obj = LLH_webins(ev_data0, ebins0, ebins1, bl_dmask, has_err=True)\n",
    "sig_llh_obj.set_model(comp_mod)"
   ]
  },
  {
   "cell_type": "markdown",
   "metadata": {},
   "source": [
    "The log likelihood minimization is handled by the NLLH_ScipyMinimize_Wjacob object, **sig_miner**, which is a wrapper of the scipy minimizer object. Using the .set_llh() function, it can rely on **sig_llh_obj** to recalculate the log likelihood through variations of the parameters. "
   ]
  },
  {
   "cell_type": "code",
   "execution_count": 85,
   "metadata": {},
   "outputs": [],
   "source": [
    "sig_miner = NLLH_ScipyMinimize_Wjacob('')\n",
    "sig_miner.set_llh(sig_llh_obj)"
   ]
  },
  {
   "cell_type": "markdown",
   "metadata": {},
   "source": [
    "In order to cut down on the computation time, only 'Signal_A' is varied during the minimization process while the others are held constant. To keep the parameters constant, list them inside the list **fixed_pnames** with their corresponding values **fixed_vals**. A transformation on each of the parameter variables can be supplied in a list **trans**. In this scenario, all of the fixed parameteres are supplied without any transformations (i.e. None). \n",
    "\n",
    "The minimizer object saves these fixed parameters and transformations through the functions .set_trans() and .set_fixed_params(). Since 'Signal_A' is to be varied, we run .set_fixed_params() with the option fixed=False to inform the minimizer that this parameter is to be varied."
   ]
  },
  {
   "cell_type": "code",
   "execution_count": 86,
   "metadata": {},
   "outputs": [],
   "source": [
    "fixed_pnames = list(pars_.keys())\n",
    "fixed_vals = list(pars_.values())\n",
    "trans = [None for i in range(len(fixed_pnames))]\n",
    "sig_miner.set_trans(fixed_pnames, trans)\n",
    "sig_miner.set_fixed_params(fixed_pnames, values=fixed_vals)\n",
    "sig_miner.set_fixed_params(['Signal_A'], fixed=False)"
   ]
  },
  {
   "cell_type": "markdown",
   "metadata": {},
   "source": [
    "Note that in general, the flux parameters are not known a priori. For the purposes of demonstration, the source model flux parameters are set with gamma and Epeak values of 0.8 and 350.0keV, respectively. "
   ]
  },
  {
   "cell_type": "code",
   "execution_count": 87,
   "metadata": {},
   "outputs": [],
   "source": [
    "#%%time\n",
    "# setting gamma and Epeak for a \"known\" source\n",
    "flux_params['gamma'] = 0.8\n",
    "flux_params['Epeak'] = 350.0\n",
    "sig_mod.set_flux_params(flux_params)"
   ]
  },
  {
   "cell_type": "markdown",
   "metadata": {},
   "source": [
    "Likewise, we know the exact time window of the signal to utilize. It is set with initial time **t0** and final time **t1**. The signal likelihood object can set the time and duration of the LLH analysis using .set_time()."
   ]
  },
  {
   "cell_type": "code",
   "execution_count": 88,
   "metadata": {},
   "outputs": [],
   "source": [
    "# Setting initial time and final time of known GRB event\n",
    "t0 = trigger_time - 0.512\n",
    "t1 = t0 + 2.048\n",
    "sig_llh_obj.set_time(t0, t1)"
   ]
  },
  {
   "cell_type": "markdown",
   "metadata": {},
   "source": [
    "The minimization process is run using the function .minimize() which returns three objects. The first, **pars**, contains the set of parameters which minimized the likelihood. The second parameter, **nllh**, is the negative log likelihood associated with the parameters, **pars**. The last, **res**, is a return object of the Scipy minimizer object. "
   ]
  },
  {
   "cell_type": "code",
   "execution_count": 89,
   "metadata": {},
   "outputs": [
    {
     "name": "stdout",
     "output_type": "stream",
     "text": [
      "[      fun: 45894.07068100051\n",
      " hess_inv: <1x1 LbfgsInvHessProduct with dtype=float64>\n",
      "      jac: array([0.00239975])\n",
      "  message: 'CONVERGENCE: REL_REDUCTION_OF_F_<=_FACTR*EPSMCH'\n",
      "     nfev: 8\n",
      "      nit: 5\n",
      "     njev: 8\n",
      "   status: 0\n",
      "  success: True\n",
      "        x: array([0.006875])]\n",
      "[45894.07068100051]\n",
      "[[0.006875003655224625]]\n"
     ]
    }
   ],
   "source": [
    "#%%time\n",
    "pars, nllh, res = sig_miner.minimize()\n",
    "\n",
    "print(res)\n",
    "print(nllh)\n",
    "print(pars)"
   ]
  },
  {
   "cell_type": "markdown",
   "metadata": {},
   "source": [
    "The negative log likelihood is calculated for the background-only model so that it can be compared to the compound (signal+background) model. Setting the parameter 'Signal_A' to 1e-10 effectively cancels out the contribution from the signal model. Since none of the parameters are being varied, the log likelihood only needs to be calculated once using the .get_logprob() function."
   ]
  },
  {
   "cell_type": "code",
   "execution_count": 91,
   "metadata": {},
   "outputs": [
    {
     "name": "stdout",
     "output_type": "stream",
     "text": [
      "46038.74332720728\n",
      "CPU times: user 4.94 ms, sys: 6.29 ms, total: 11.2 ms\n",
      "Wall time: 9.04 ms\n"
     ]
    }
   ],
   "source": [
    "%%time\n",
    "# Evaluating log likelihood for background only model. This is accomplished by setting Signal_A to effectively zero. \n",
    "pars_['Signal_A'] = 1e-10\n",
    "bkg_nllh = -sig_llh_obj.get_logprob(pars_)\n",
    "print (bkg_nllh)"
   ]
  },
  {
   "cell_type": "markdown",
   "metadata": {},
   "source": [
    "The likelihood ratio test statistic given by equation 13 (section 6. GRB Search):\n",
    "\n",
    "$$\\lambda  = -2[LLH(\\Theta_{bkg}) - LLH(\\Theta_{sig}, \\Theta_{bkg})]$$\n",
    "\n",
    "This statistic is used to quantify the preference for the signal+background model compared to the background-only model. \n",
    "\n",
    "In the following block, the square root of the likelihood ratio test statistic is calculated using the negative log likelihood of the background model and the minimized background+signal model. \n"
   ]
  },
  {
   "cell_type": "code",
   "execution_count": 92,
   "metadata": {},
   "outputs": [
    {
     "name": "stdout",
     "output_type": "stream",
     "text": [
      "17.01015262757948\n"
     ]
    }
   ],
   "source": [
    "sqrtTS = np.sqrt(2.*(bkg_nllh - nllh[0]))\n",
    "print (sqrtTS)"
   ]
  },
  {
   "cell_type": "markdown",
   "metadata": {},
   "source": [
    "The value of **sqrtTS** indicates a strong preference for the signal+background model. As a result, we have a strong case for having detected a GRB. By comparison, a value of 8.0 is the threshold for confident detection of a GRB. At a threshold rate, the false alarm rate (FAR) is less than $10^{-4}s^{-1}$ which is equivalent to around 8.64 times a day."
   ]
  },
  {
   "cell_type": "markdown",
   "metadata": {},
   "source": [
    "## References\n",
    "---\n",
    "DeLaunay, J., & Tohuvavohu, A. (2021). Harvesting BAT-GUANO with NITRATES (Non-Imaging Transient Reconstruction And TEmporal Search): Detecting and localizing the faintest GRBs with a likelihood framework. doi:10.48550/ARXIV.2111.01769 \n",
    "https://arxiv.org/pdf/2111.01769.pdf"
   ]
  }
 ],
 "metadata": {
  "kernelspec": {
   "display_name": "Python 3.9.6 ('swift-bat': venv)",
   "language": "python",
   "name": "python3"
  },
  "language_info": {
   "codemirror_mode": {
    "name": "ipython",
    "version": 3
   },
   "file_extension": ".py",
   "mimetype": "text/x-python",
   "name": "python",
   "nbconvert_exporter": "python",
   "pygments_lexer": "ipython3",
   "version": "3.9.6"
  },
  "vscode": {
   "interpreter": {
    "hash": "4296b4fafe660374de92932bb0da53de10f2227b8dd13641ba3ad9034bf95694"
   }
  }
 },
 "nbformat": 4,
 "nbformat_minor": 4
}
