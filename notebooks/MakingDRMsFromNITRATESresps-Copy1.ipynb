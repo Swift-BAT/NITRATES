{
 "cells": [
  {
   "cell_type": "code",
   "execution_count": 2,
   "metadata": {},
   "outputs": [],
   "source": [
    "import numpy as np\n",
    "from astropy.io import fits\n",
    "from astropy.table import Table, vstack\n",
    "from astropy.wcs import WCS\n",
    "import os\n",
    "from scipy import optimize, stats, interpolate\n",
    "from scipy.integrate import quad\n",
    "import argparse\n",
    "import time\n",
    "import multiprocessing as mp\n",
    "import matplotlib.pyplot as plt\n",
    "from matplotlib.colors import LogNorm\n",
    "from matplotlib.ticker import LogFormatter\n",
    "from matplotlib import cm\n",
    "import sys\n",
    "import pandas as pd\n",
    "pd.options.display.max_columns = 250\n",
    "pd.options.display.max_rows = 250\n",
    "import healpy as hp\n",
    "from copy import copy, deepcopy\n",
    "# sys.path.append('BatML/')\n",
    "import logging, traceback\n",
    "import sys\n",
    "logging.basicConfig(stream=sys.stdout, level=logging.DEBUG)"
   ]
  },
  {
   "cell_type": "code",
   "execution_count": 3,
   "metadata": {},
   "outputs": [
    {
     "name": "stdout",
     "output_type": "stream",
     "text": [
      "/storage/work/j/jjd330/local/bat_data/BatML\n"
     ]
    }
   ],
   "source": [
    "%cd BatML/"
   ]
  },
  {
   "cell_type": "code",
   "execution_count": 4,
   "metadata": {},
   "outputs": [],
   "source": [
    "from config import solid_angle_dpi_fname, fp_dir, rt_dir\n",
    "from ray_trace_funcs import RayTraces\n",
    "from event2dpi_funcs import det2dpis, mask_detxy\n",
    "# from do_InFoV_scan3 import Swift_Mask_Interactions, Source_Model_InFoV, Bkg_Model_wFlatA,\\\n",
    "#                             CompoundModel, Point_Source_Model_Binned_Rates,\\\n",
    "#                             theta_phi2imxy, bldmask2batxys, imxy2theta_phi,\\\n",
    "#                             get_fixture_struct\n",
    "from flux_models import Cutoff_Plaw_Flux, Plaw_Flux, get_eflux_from_model\n",
    "from models import Source_Model_InOutFoV, Bkg_Model_wFlatA, CompoundModel, Point_Source_Model_Binned_Rates\n",
    "from ray_trace_funcs import RayTraces\n",
    "from sqlite_funcs import get_conn\n",
    "from dbread_funcs import get_info_tab, get_twinds_tab\n",
    "from do_manage import im_dist\n",
    "from hp_funcs import ang_sep\n",
    "from coord_conv_funcs import theta_phi2imxy, imxy2theta_phi, convert_imxy2radec,\\\n",
    "                            convert_radec2thetaphi, convert_radec2imxy\n",
    "from do_llh_inFoV4realtime import parse_bkg_csv\n",
    "from LLH import LLH_webins\n",
    "from minimizers import NLLH_ScipyMinimize_Wjacob, NLLH_ScipyMinimize"
   ]
  },
  {
   "cell_type": "code",
   "execution_count": 5,
   "metadata": {},
   "outputs": [],
   "source": [
    "def get_bldmask_alldets():\n",
    "\n",
    "    detxs_by_sand0 = np.arange(0, 286-15, 18)\n",
    "    detxs_by_sand1 = detxs_by_sand0 + 15\n",
    "\n",
    "    detys_by_sand0 = np.arange(0, 173-7, 11)\n",
    "    detys_by_sand1 = detys_by_sand0 + 7\n",
    "\n",
    "    all_good_detxs = np.ravel([np.arange(detxs_by_sand0[i], detxs_by_sand1[i]+1,\\\n",
    "                                          1, dtype=np.int) for i in range(16)])\n",
    "    all_good_detys = np.ravel([np.arange(detys_by_sand0[i], detys_by_sand1[i]+1,\\\n",
    "                                         1, dtype=np.int) for i in range(16)])\n",
    "\n",
    "    detxax = np.arange(286, dtype=np.int)\n",
    "    detyax = np.arange(173, dtype=np.int)\n",
    "    detx_dpi, dety_dpi = np.meshgrid(detxax, detyax)\n",
    "    bl_alldets = np.isin(detx_dpi, all_good_detxs)&np.isin(dety_dpi, all_good_detys)\n",
    "    return bl_alldets\n",
    "\n",
    "bl_alldets = get_bldmask_alldets()"
   ]
  },
  {
   "cell_type": "code",
   "execution_count": 1,
   "metadata": {
    "scrolled": true
   },
   "outputs": [
    {
     "ename": "NameError",
     "evalue": "name 'fits' is not defined",
     "output_type": "error",
     "traceback": [
      "\u001b[0;31m\u001b[0m",
      "\u001b[0;31mNameError\u001b[0mTraceback (most recent call last)",
      "\u001b[0;32m<ipython-input-1-df0a07cbed46>\u001b[0m in \u001b[0;36m<module>\u001b[0;34m()\u001b[0m\n\u001b[0;32m----> 1\u001b[0;31m \u001b[0mdmask\u001b[0m \u001b[0;34m=\u001b[0m \u001b[0mfits\u001b[0m\u001b[0;34m.\u001b[0m\u001b[0mopen\u001b[0m\u001b[0;34m(\u001b[0m\u001b[0mos\u001b[0m\u001b[0;34m.\u001b[0m\u001b[0mpath\u001b[0m\u001b[0;34m.\u001b[0m\u001b[0mjoin\u001b[0m\u001b[0;34m(\u001b[0m\u001b[0mwork_dir\u001b[0m\u001b[0;34m,\u001b[0m\u001b[0;34m'detmask.fits'\u001b[0m\u001b[0;34m)\u001b[0m\u001b[0;34m)\u001b[0m\u001b[0;34m[\u001b[0m\u001b[0;36m0\u001b[0m\u001b[0;34m]\u001b[0m\u001b[0;34m.\u001b[0m\u001b[0mdata\u001b[0m\u001b[0;34m\u001b[0m\u001b[0m\n\u001b[0m\u001b[1;32m      2\u001b[0m \u001b[0mndets\u001b[0m \u001b[0;34m=\u001b[0m \u001b[0mnp\u001b[0m\u001b[0;34m.\u001b[0m\u001b[0msum\u001b[0m\u001b[0;34m(\u001b[0m\u001b[0mdmask\u001b[0m\u001b[0;34m==\u001b[0m\u001b[0;36m0\u001b[0m\u001b[0;34m)\u001b[0m\u001b[0;34m\u001b[0m\u001b[0m\n\u001b[1;32m      3\u001b[0m \u001b[0mbl_dmask\u001b[0m \u001b[0;34m=\u001b[0m \u001b[0;34m(\u001b[0m\u001b[0mdmask\u001b[0m\u001b[0;34m==\u001b[0m\u001b[0;36m0.\u001b[0m\u001b[0;34m)\u001b[0m\u001b[0;34m\u001b[0m\u001b[0m\n",
      "\u001b[0;31mNameError\u001b[0m: name 'fits' is not defined"
     ]
    }
   ],
   "source": [
    "dmask = fits.open('detmask.fits')[0].data\n",
    "ndets = np.sum(dmask==0)\n",
    "bl_dmask = (dmask==0.)"
   ]
  },
  {
   "cell_type": "code",
   "execution_count": 7,
   "metadata": {},
   "outputs": [],
   "source": [
    "# use whatever ebins\n",
    "ebins0 = np.array([15.0, 24.0, 35.0, 48.0, 64.0])\n",
    "ebins0 = np.append(ebins0, np.logspace(np.log10(84.0), np.log10(500.0), 5+1))[:-1]\n",
    "ebins0 = np.round(ebins0, decimals=1)[:-1]\n",
    "ebins1 = np.append(ebins0[1:], [350.0])\n",
    "nebins = len(ebins0)"
   ]
  },
  {
   "cell_type": "code",
   "execution_count": 8,
   "metadata": {},
   "outputs": [
    {
     "name": "stdout",
     "output_type": "stream",
     "text": [
      "INFO:root:0.02\n",
      "INFO:root:0.002\n"
     ]
    }
   ],
   "source": [
    "flux_mod = Cutoff_Plaw_Flux(E0=100.0)\n",
    "flux_params = {'A':1.0, 'gamma':0.5, 'Epeak':1e2}\n",
    "rt_obj = RayTraces(rt_dir)"
   ]
  },
  {
   "cell_type": "code",
   "execution_count": 10,
   "metadata": {},
   "outputs": [],
   "source": [
    "drm_fname = '' # an already made DRM to copy the header info from"
   ]
  },
  {
   "cell_type": "code",
   "execution_count": 9,
   "metadata": {
    "scrolled": true
   },
   "outputs": [
    {
     "name": "stdout",
     "output_type": "stream",
     "text": [
      "INFO:root:Making new response object\n",
      "WARNING:astropy:hdu= was not specified but multiple tables are present, reading in first available table (hdu=1)\n",
      "(0.0, 30.48, -14.117)\n"
     ]
    },
    {
     "name": "stderr",
     "output_type": "stream",
     "text": [
      "WARNING: hdu= was not specified but multiple tables are present, reading in first available table (hdu=1) [astropy.io.fits.connect]\n"
     ]
    },
    {
     "name": "stdout",
     "output_type": "stream",
     "text": [
      "(0.0, 30.48, -14.117)\n"
     ]
    },
    {
     "name": "stderr",
     "output_type": "stream",
     "text": [
      "response.py:1499: RuntimeWarning: invalid value encountered in divide\n",
      "  (self.orig_photonEs[self.Einds1] - self.orig_photonEs[self.Einds0])\n",
      "Polygons.py:317: RuntimeWarning: invalid value encountered in less\n",
      "  bl_goodz[((z-detz) < (-z_height/2.))] = False\n"
     ]
    },
    {
     "name": "stdout",
     "output_type": "stream",
     "text": [
      "0.0 3.0\n",
      "0.0\n",
      "0.0\n",
      "DEBUG:root:opening file: fwd_ray_trace_-0.02000_0.00000_0.00000_0.02000_.npy\n",
      "DEBUG:root:nbytes_total=95789408.0\n",
      "max rt: 1.0000\n"
     ]
    },
    {
     "name": "stderr",
     "output_type": "stream",
     "text": [
      "shield_structure.py:239: RuntimeWarning: invalid value encountered in less\n",
      "  bl_goodz[((z-detz) < -0.2)] = False\n"
     ]
    },
    {
     "name": "stdout",
     "output_type": "stream",
     "text": [
      "DEBUG:root:Openning file: resp_by_sand_hpind_40.fits\n",
      "DEBUG:root:Openning file: resp_by_sand_hpind_55.fits\n",
      "DEBUG:root:Openning file: resp_by_sand_theta_0.fits\n",
      "initing ResponseDPI, with fname\n",
      "/storage/work/jjd330/local/bat_data/resp_tabs/drm_theta_0.0_phi_0.0_.fits\n",
      "Theta phi set\n"
     ]
    },
    {
     "ename": "NameError",
     "evalue": "name 'drm_fname' is not defined",
     "output_type": "error",
     "traceback": [
      "\u001b[0;31m\u001b[0m",
      "\u001b[0;31mNameError\u001b[0mTraceback (most recent call last)",
      "\u001b[0;32m<ipython-input-9-f34b0a09b563>\u001b[0m in \u001b[0;36m<module>\u001b[0;34m()\u001b[0m\n\u001b[0;32m----> 1\u001b[0;31m \u001b[0mget_ipython\u001b[0m\u001b[0;34m(\u001b[0m\u001b[0;34m)\u001b[0m\u001b[0;34m.\u001b[0m\u001b[0mrun_cell_magic\u001b[0m\u001b[0;34m(\u001b[0m\u001b[0;34mu'time'\u001b[0m\u001b[0;34m,\u001b[0m \u001b[0;34mu''\u001b[0m\u001b[0;34m,\u001b[0m \u001b[0;34mu\"\\ntheta = 0.0\\nphi = 0.0\\n\\nsig_mod = Source_Model_InOutFoV(flux_mod, [ebins0,ebins1], bl_dmask,\\\\\\n                                rt_obj, use_deriv=True)    \\n\\nsig_mod.resp_dname = '/storage/work/jjd330/local/bat_data/resp_tabs/' \\n\\nsig_mod.set_theta_phi(theta, phi)\\n\\nprint('Theta phi set')\\n\\nresps = np.sum(sig_mod.resp_obj.tot_resp_dpis, axis=0)\\n\\ndic = {'ENERG_LO':sig_mod.resp_obj.PhotonEmins, \\n       'ENERG_HI':sig_mod.resp_obj.PhotonEmaxs,\\n       'N_GRP':np.ones(187, dtype=np.int),\\n       'F_CHAN':np.zeros(187, dtype=np.int),\\n       'N_CHAN':np.zeros(187, dtype=np.int) + len(ebins0),\\n       'MATRIX':resps}\\ndrm_tab = Table(data=dic)\\n\\nebounds_tab = Table(data=[np.arange(len(ebins0),dtype=np.int),ebins0,ebins1],\\n                    names=['CHANNEL', 'E_MIN', 'E_MAX'], dtype=[np.int,np.float,np.float])\\n\\nprimary_hdu = fits.PrimaryHDU()\\ndrm_hdu = fits.table_to_hdu(drm_tab)\\nebounds_hdu = fits.table_to_hdu(ebounds_tab)\\n\\ndrm_hdu.name = 'SPECRESP MATRIX'\\nebounds_hdu.name = 'EBOUNDS'\\n\\nf0 = fits.open(drm_fname)\\n\\nfor k, val in f0[1].header.iteritems():\\n    if k in drm_hdu.header.keys():\\n        continue\\n    drm_hdu.header.append((k,val))\\ndrm_hdu.header['DETCHANS'] = len(ebins0)\\ndrm_hdu.header['TLMAX4'] = 4\\ndrm_hdu.header['NUMGRP'] = len(drm_tab['ENERG_HI'])\\ndrm_hdu.header['NUMELT'] = len(drm_tab['ENERG_HI'])*len(ebins0)\\n\\n\\nfor k, val in f0[2].header.iteritems():\\n    if k in ebounds_hdu.header.keys():\\n        continue\\n    ebounds_hdu.header.append((k,val))\\nebounds_hdu.header['DETCHANS'] = len(ebins0)\\n\\n\\nhdul = fits.HDUList([primary_hdu, drm_hdu, ebounds_hdu])\\n\\nsave_fname = 'DRM.rsp'\\n\\n# hdul.writeto(save_fname, overwrite=True)\"\u001b[0m\u001b[0;34m)\u001b[0m\u001b[0;34m\u001b[0m\u001b[0m\n\u001b[0m",
      "\u001b[0;32m/storage/work/jjd330/conda/my-envs/myenv/lib/python2.7/site-packages/IPython/core/interactiveshell.pyc\u001b[0m in \u001b[0;36mrun_cell_magic\u001b[0;34m(self, magic_name, line, cell)\u001b[0m\n\u001b[1;32m   2115\u001b[0m             \u001b[0mmagic_arg_s\u001b[0m \u001b[0;34m=\u001b[0m \u001b[0mself\u001b[0m\u001b[0;34m.\u001b[0m\u001b[0mvar_expand\u001b[0m\u001b[0;34m(\u001b[0m\u001b[0mline\u001b[0m\u001b[0;34m,\u001b[0m \u001b[0mstack_depth\u001b[0m\u001b[0;34m)\u001b[0m\u001b[0;34m\u001b[0m\u001b[0m\n\u001b[1;32m   2116\u001b[0m             \u001b[0;32mwith\u001b[0m \u001b[0mself\u001b[0m\u001b[0;34m.\u001b[0m\u001b[0mbuiltin_trap\u001b[0m\u001b[0;34m:\u001b[0m\u001b[0;34m\u001b[0m\u001b[0m\n\u001b[0;32m-> 2117\u001b[0;31m                 \u001b[0mresult\u001b[0m \u001b[0;34m=\u001b[0m \u001b[0mfn\u001b[0m\u001b[0;34m(\u001b[0m\u001b[0mmagic_arg_s\u001b[0m\u001b[0;34m,\u001b[0m \u001b[0mcell\u001b[0m\u001b[0;34m)\u001b[0m\u001b[0;34m\u001b[0m\u001b[0m\n\u001b[0m\u001b[1;32m   2118\u001b[0m             \u001b[0;32mreturn\u001b[0m \u001b[0mresult\u001b[0m\u001b[0;34m\u001b[0m\u001b[0m\n\u001b[1;32m   2119\u001b[0m \u001b[0;34m\u001b[0m\u001b[0m\n",
      "\u001b[0;32m<decorator-gen-60>\u001b[0m in \u001b[0;36mtime\u001b[0;34m(self, line, cell, local_ns)\u001b[0m\n",
      "\u001b[0;32m/storage/work/jjd330/conda/my-envs/myenv/lib/python2.7/site-packages/IPython/core/magic.pyc\u001b[0m in \u001b[0;36m<lambda>\u001b[0;34m(f, *a, **k)\u001b[0m\n\u001b[1;32m    186\u001b[0m     \u001b[0;31m# but it's overkill for just that one bit of state.\u001b[0m\u001b[0;34m\u001b[0m\u001b[0;34m\u001b[0m\u001b[0m\n\u001b[1;32m    187\u001b[0m     \u001b[0;32mdef\u001b[0m \u001b[0mmagic_deco\u001b[0m\u001b[0;34m(\u001b[0m\u001b[0marg\u001b[0m\u001b[0;34m)\u001b[0m\u001b[0;34m:\u001b[0m\u001b[0;34m\u001b[0m\u001b[0m\n\u001b[0;32m--> 188\u001b[0;31m         \u001b[0mcall\u001b[0m \u001b[0;34m=\u001b[0m \u001b[0;32mlambda\u001b[0m \u001b[0mf\u001b[0m\u001b[0;34m,\u001b[0m \u001b[0;34m*\u001b[0m\u001b[0ma\u001b[0m\u001b[0;34m,\u001b[0m \u001b[0;34m**\u001b[0m\u001b[0mk\u001b[0m\u001b[0;34m:\u001b[0m \u001b[0mf\u001b[0m\u001b[0;34m(\u001b[0m\u001b[0;34m*\u001b[0m\u001b[0ma\u001b[0m\u001b[0;34m,\u001b[0m \u001b[0;34m**\u001b[0m\u001b[0mk\u001b[0m\u001b[0;34m)\u001b[0m\u001b[0;34m\u001b[0m\u001b[0m\n\u001b[0m\u001b[1;32m    189\u001b[0m \u001b[0;34m\u001b[0m\u001b[0m\n\u001b[1;32m    190\u001b[0m         \u001b[0;32mif\u001b[0m \u001b[0mcallable\u001b[0m\u001b[0;34m(\u001b[0m\u001b[0marg\u001b[0m\u001b[0;34m)\u001b[0m\u001b[0;34m:\u001b[0m\u001b[0;34m\u001b[0m\u001b[0m\n",
      "\u001b[0;32m/storage/work/jjd330/conda/my-envs/myenv/lib/python2.7/site-packages/IPython/core/magics/execution.pyc\u001b[0m in \u001b[0;36mtime\u001b[0;34m(self, line, cell, local_ns)\u001b[0m\n\u001b[1;32m   1191\u001b[0m         \u001b[0;32melse\u001b[0m\u001b[0;34m:\u001b[0m\u001b[0;34m\u001b[0m\u001b[0m\n\u001b[1;32m   1192\u001b[0m             \u001b[0mst\u001b[0m \u001b[0;34m=\u001b[0m \u001b[0mclock2\u001b[0m\u001b[0;34m(\u001b[0m\u001b[0;34m)\u001b[0m\u001b[0;34m\u001b[0m\u001b[0m\n\u001b[0;32m-> 1193\u001b[0;31m             \u001b[0;32mexec\u001b[0m\u001b[0;34m(\u001b[0m\u001b[0mcode\u001b[0m\u001b[0;34m,\u001b[0m \u001b[0mglob\u001b[0m\u001b[0;34m,\u001b[0m \u001b[0mlocal_ns\u001b[0m\u001b[0;34m)\u001b[0m\u001b[0;34m\u001b[0m\u001b[0m\n\u001b[0m\u001b[1;32m   1194\u001b[0m             \u001b[0mend\u001b[0m \u001b[0;34m=\u001b[0m \u001b[0mclock2\u001b[0m\u001b[0;34m(\u001b[0m\u001b[0;34m)\u001b[0m\u001b[0;34m\u001b[0m\u001b[0m\n\u001b[1;32m   1195\u001b[0m             \u001b[0mout\u001b[0m \u001b[0;34m=\u001b[0m \u001b[0mNone\u001b[0m\u001b[0;34m\u001b[0m\u001b[0m\n",
      "\u001b[0;32m<timed exec>\u001b[0m in \u001b[0;36m<module>\u001b[0;34m()\u001b[0m\n",
      "\u001b[0;31mNameError\u001b[0m: name 'drm_fname' is not defined"
     ]
    }
   ],
   "source": [
    "%%time\n",
    "\n",
    "theta = 0.0\n",
    "phi = 0.0\n",
    "\n",
    "sig_mod = Source_Model_InOutFoV(flux_mod, [ebins0,ebins1], bl_dmask,\\\n",
    "                                rt_obj, use_deriv=True)    \n",
    "\n",
    "sig_mod.set_theta_phi(theta, phi)\n",
    "\n",
    "print('Theta phi set')\n",
    "\n",
    "resps = np.sum(sig_mod.resp_obj.tot_resp_dpis, axis=0)\n",
    "\n",
    "dic = {'ENERG_LO':sig_mod.resp_obj.PhotonEmins, \n",
    "       'ENERG_HI':sig_mod.resp_obj.PhotonEmaxs,\n",
    "       'N_GRP':np.ones(187, dtype=np.int),\n",
    "       'F_CHAN':np.zeros(187, dtype=np.int),\n",
    "       'N_CHAN':np.zeros(187, dtype=np.int) + len(ebins0),\n",
    "       'MATRIX':resps}\n",
    "drm_tab = Table(data=dic)\n",
    "\n",
    "ebounds_tab = Table(data=[np.arange(len(ebins0),dtype=np.int),ebins0,ebins1],\n",
    "                    names=['CHANNEL', 'E_MIN', 'E_MAX'], dtype=[np.int,np.float,np.float])\n",
    "\n",
    "primary_hdu = fits.PrimaryHDU()\n",
    "drm_hdu = fits.table_to_hdu(drm_tab)\n",
    "ebounds_hdu = fits.table_to_hdu(ebounds_tab)\n",
    "\n",
    "drm_hdu.name = 'SPECRESP MATRIX'\n",
    "ebounds_hdu.name = 'EBOUNDS'\n",
    "\n",
    "f0 = fits.open(drm_fname)\n",
    "\n",
    "for k, val in f0[1].header.iteritems():\n",
    "    if k in drm_hdu.header.keys():\n",
    "        continue\n",
    "    drm_hdu.header.append((k,val))\n",
    "drm_hdu.header['DETCHANS'] = len(ebins0)\n",
    "drm_hdu.header['TLMAX4'] = 4\n",
    "drm_hdu.header['NUMGRP'] = len(drm_tab['ENERG_HI'])\n",
    "drm_hdu.header['NUMELT'] = len(drm_tab['ENERG_HI'])*len(ebins0)\n",
    "\n",
    "\n",
    "for k, val in f0[2].header.iteritems():\n",
    "    if k in ebounds_hdu.header.keys():\n",
    "        continue\n",
    "    ebounds_hdu.header.append((k,val))\n",
    "ebounds_hdu.header['DETCHANS'] = len(ebins0)\n",
    "\n",
    "\n",
    "hdul = fits.HDUList([primary_hdu, drm_hdu, ebounds_hdu])\n",
    "\n",
    "save_fname = 'DRM.rsp'\n",
    "\n",
    "# hdul.writeto(save_fname, overwrite=True)"
   ]
  },
  {
   "cell_type": "code",
   "execution_count": null,
   "metadata": {},
   "outputs": [],
   "source": []
  }
 ],
 "metadata": {
  "kernelspec": {
   "display_name": "Python 3 (ipykernel)",
   "language": "python",
   "name": "python3"
  },
  "language_info": {
   "codemirror_mode": {
    "name": "ipython",
    "version": 3
   },
   "file_extension": ".py",
   "mimetype": "text/x-python",
   "name": "python",
   "nbconvert_exporter": "python",
   "pygments_lexer": "ipython3",
   "version": "3.8.10"
  }
 },
 "nbformat": 4,
 "nbformat_minor": 4
}
